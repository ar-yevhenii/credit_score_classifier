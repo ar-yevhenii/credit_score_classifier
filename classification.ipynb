{
  "cells": [
    {
      "cell_type": "code",
      "execution_count": 1,
      "metadata": {
        "id": "KJ_NW2x64p8E"
      },
      "outputs": [],
      "source": [
        "full_name = \"Artemenko_Yevhenii\""
      ]
    },
    {
      "cell_type": "code",
      "execution_count": 2,
      "metadata": {
        "colab": {
          "base_uri": "https://localhost:8080/"
        },
        "id": "-iiILyom4p8I",
        "outputId": "9648958f-c133-4d19-cb21-4a5446d7d5fe"
      },
      "outputs": [
        {
          "name": "stderr",
          "output_type": "stream",
          "text": [
            "D:\\Users\\Евгений Артёменко\\AppData\\Local\\Temp\\ipykernel_16888\\3351410028.py:15: MatplotlibDeprecationWarning: The seaborn styles shipped by Matplotlib are deprecated since 3.6, as they no longer correspond to the styles shipped by seaborn. However, they will remain available as 'seaborn-v0_8-<style>'. Alternatively, directly use the seaborn API instead.\n",
            "  plt.style.use(\"seaborn\")\n"
          ]
        }
      ],
      "source": [
        "import pandas as pd\n",
        "import numpy as np\n",
        "import seaborn as sns\n",
        "import matplotlib.pyplot as plt\n",
        "from sklearn.preprocessing import LabelEncoder\n",
        "from imblearn.over_sampling import SMOTE\n",
        "from sklearn.model_selection import train_test_split, GridSearchCV\n",
        "from sklearn.metrics import confusion_matrix, classification_report, accuracy_score, roc_curve, auc\n",
        "from sklearn.preprocessing import MinMaxScaler\n",
        "from sklearn.linear_model import LogisticRegression\n",
        "from sklearn.neighbors import KNeighborsClassifier\n",
        "from sklearn.tree import DecisionTreeClassifier\n",
        "from sklearn.ensemble import RandomForestClassifier\n",
        "\n",
        "plt.style.use(\"seaborn\")"
      ]
    },
    {
      "cell_type": "markdown",
      "metadata": {
        "id": "IY5aMw994p8J"
      },
      "source": [
        "**Features in the dataset**\n",
        "\n",
        "ID: Unique ID of the record\\\n",
        "Customer_ID: Unique ID of the customer\\\n",
        "Month: Month of the year\\\n",
        "Name: The name of the person\\\n",
        "Age: The age of the person\\\n",
        "SSN: Social Security Number of the person\\\n",
        "Occupation: The occupation of the person\\\n",
        "Annual_Income: The Annual Income of the person\\\n",
        "Monthly_Inhand_Salary: Monthly in-hand salary of the person\\\n",
        "Num_Bank_Accounts: The number of bank accounts of the person\\\n",
        "Num_Credit_Card: Number of credit cards the person is having\\\n",
        "Interest_Rate: The interest rate on the credit card of the person\\\n",
        "Num_of_Loan: The number of loans taken by the person from the bank\\\n",
        "Type_of_Loan: The types of loans taken by the person from the bank\\\n",
        "Delay_from_due_date: The average number of days delayed by the person from the date of payment\\\n",
        "Num_of_Delayed_Payment: Number of payments delayed by the person\\\n",
        "Changed_Credit_Card: The percentage change in the credit card limit of the person\\\n",
        "Num_Credit_Inquiries: The number of credit card inquiries by the person\\\n",
        "Credit_Mix: Classification of Credit Mix of the customer\\\n",
        "Outstanding_Debt: The outstanding balance of the person\\\n",
        "Credit_Utilization_Ratio: The credit utilization ratio of the credit card of the customer\\\n",
        "Credit_History_Age: The age of the credit history of the person\\\n",
        "Payment_of_Min_Amount: Yes if the person paid the minimum amount to be paid only, otherwise no.\\\n",
        "Total_EMI_per_month: The total EMI per month of the person\\\n",
        "Amount_invested_monthly: The monthly amount invested by the person\\\n",
        "Payment_Behaviour: The payment behaviour of the person\\\n",
        "Monthly_Balance: The monthly balance left in the account of the person\\\n",
        "Credit_Score: The credit score of the person"
      ]
    },
    {
      "cell_type": "markdown",
      "metadata": {
        "id": "o2uK92194p8O"
      },
      "source": [
        "**answers.csv**\n",
        "\n",
        "| ID | Credit_Score |\n",
        "|----------|----------|\n",
        "| 0    | Good   |\n",
        "| 1    | Poor  |\n",
        "| 2    | Standard   |"
      ]
    },
    {
      "cell_type": "code",
      "execution_count": 3,
      "metadata": {
        "colab": {
          "base_uri": "https://localhost:8080/",
          "height": 339
        },
        "id": "VtCMGw4m4p8P",
        "outputId": "cb84d08d-b1c5-4650-9134-627d34f64435"
      },
      "outputs": [
        {
          "name": "stdout",
          "output_type": "stream",
          "text": [
            "(80000, 27) (20000, 26)\n"
          ]
        },
        {
          "data": {
            "text/html": [
              "<div>\n",
              "<style scoped>\n",
              "    .dataframe tbody tr th:only-of-type {\n",
              "        vertical-align: middle;\n",
              "    }\n",
              "\n",
              "    .dataframe tbody tr th {\n",
              "        vertical-align: top;\n",
              "    }\n",
              "\n",
              "    .dataframe thead th {\n",
              "        text-align: right;\n",
              "    }\n",
              "</style>\n",
              "<table border=\"1\" class=\"dataframe\">\n",
              "  <thead>\n",
              "    <tr style=\"text-align: right;\">\n",
              "      <th></th>\n",
              "      <th>Customer_ID</th>\n",
              "      <th>Month</th>\n",
              "      <th>Name</th>\n",
              "      <th>Age</th>\n",
              "      <th>SSN</th>\n",
              "      <th>Occupation</th>\n",
              "      <th>Annual_Income</th>\n",
              "      <th>Monthly_Inhand_Salary</th>\n",
              "      <th>Num_Bank_Accounts</th>\n",
              "      <th>Num_Credit_Card</th>\n",
              "      <th>...</th>\n",
              "      <th>Credit_Mix</th>\n",
              "      <th>Outstanding_Debt</th>\n",
              "      <th>Credit_Utilization_Ratio</th>\n",
              "      <th>Credit_History_Age</th>\n",
              "      <th>Payment_of_Min_Amount</th>\n",
              "      <th>Total_EMI_per_month</th>\n",
              "      <th>Amount_invested_monthly</th>\n",
              "      <th>Payment_Behaviour</th>\n",
              "      <th>Monthly_Balance</th>\n",
              "      <th>Credit_Score</th>\n",
              "    </tr>\n",
              "    <tr>\n",
              "      <th>ID</th>\n",
              "      <th></th>\n",
              "      <th></th>\n",
              "      <th></th>\n",
              "      <th></th>\n",
              "      <th></th>\n",
              "      <th></th>\n",
              "      <th></th>\n",
              "      <th></th>\n",
              "      <th></th>\n",
              "      <th></th>\n",
              "      <th></th>\n",
              "      <th></th>\n",
              "      <th></th>\n",
              "      <th></th>\n",
              "      <th></th>\n",
              "      <th></th>\n",
              "      <th></th>\n",
              "      <th></th>\n",
              "      <th></th>\n",
              "      <th></th>\n",
              "      <th></th>\n",
              "    </tr>\n",
              "  </thead>\n",
              "  <tbody>\n",
              "    <tr>\n",
              "      <th>21034</th>\n",
              "      <td>11711</td>\n",
              "      <td>5</td>\n",
              "      <td>Abhishek Vishnoiw</td>\n",
              "      <td>51.0</td>\n",
              "      <td>370512390.0</td>\n",
              "      <td>Musician</td>\n",
              "      <td>101583.48</td>\n",
              "      <td>8648.290000</td>\n",
              "      <td>5.0</td>\n",
              "      <td>7.0</td>\n",
              "      <td>...</td>\n",
              "      <td>Standard</td>\n",
              "      <td>50.93</td>\n",
              "      <td>34.462154</td>\n",
              "      <td>289.0</td>\n",
              "      <td>No</td>\n",
              "      <td>190.811017</td>\n",
              "      <td>61.059177</td>\n",
              "      <td>Low_spent_Large_value_payments</td>\n",
              "      <td>314.002193</td>\n",
              "      <td>Standard</td>\n",
              "    </tr>\n",
              "    <tr>\n",
              "      <th>24721</th>\n",
              "      <td>33127</td>\n",
              "      <td>8</td>\n",
              "      <td>Freifeldu</td>\n",
              "      <td>23.0</td>\n",
              "      <td>721850529.0</td>\n",
              "      <td>Writer</td>\n",
              "      <td>101926.95</td>\n",
              "      <td>8635.912500</td>\n",
              "      <td>4.0</td>\n",
              "      <td>4.0</td>\n",
              "      <td>...</td>\n",
              "      <td>Standard</td>\n",
              "      <td>1058.00</td>\n",
              "      <td>39.693812</td>\n",
              "      <td>245.0</td>\n",
              "      <td>No</td>\n",
              "      <td>70.587681</td>\n",
              "      <td>165.540620</td>\n",
              "      <td>Low_spent_Medium_value_payments</td>\n",
              "      <td>410.199642</td>\n",
              "      <td>Standard</td>\n",
              "    </tr>\n",
              "    <tr>\n",
              "      <th>52063</th>\n",
              "      <td>14859</td>\n",
              "      <td>2</td>\n",
              "      <td>Huwo</td>\n",
              "      <td>49.0</td>\n",
              "      <td>618962558.0</td>\n",
              "      <td>Writer</td>\n",
              "      <td>158871.12</td>\n",
              "      <td>12962.260000</td>\n",
              "      <td>0.0</td>\n",
              "      <td>4.0</td>\n",
              "      <td>...</td>\n",
              "      <td>Good</td>\n",
              "      <td>576.48</td>\n",
              "      <td>39.367225</td>\n",
              "      <td>228.0</td>\n",
              "      <td>No</td>\n",
              "      <td>86.905860</td>\n",
              "      <td>161.046502</td>\n",
              "      <td>Low_spent_Medium_value_payments</td>\n",
              "      <td>742.514154</td>\n",
              "      <td>Standard</td>\n",
              "    </tr>\n",
              "    <tr>\n",
              "      <th>97724</th>\n",
              "      <td>39499</td>\n",
              "      <td>3</td>\n",
              "      <td>Alex Dobuzinskiso</td>\n",
              "      <td>40.0</td>\n",
              "      <td>817314270.0</td>\n",
              "      <td>Doctor</td>\n",
              "      <td>60379.28</td>\n",
              "      <td>4427.498453</td>\n",
              "      <td>5.0</td>\n",
              "      <td>6.0</td>\n",
              "      <td>...</td>\n",
              "      <td>Standard</td>\n",
              "      <td>725.39</td>\n",
              "      <td>29.061701</td>\n",
              "      <td>205.0</td>\n",
              "      <td>NM</td>\n",
              "      <td>90.906385</td>\n",
              "      <td>125.769289</td>\n",
              "      <td>High_spent_Medium_value_payments</td>\n",
              "      <td>473.135623</td>\n",
              "      <td>Standard</td>\n",
              "    </tr>\n",
              "    <tr>\n",
              "      <th>140723</th>\n",
              "      <td>9530</td>\n",
              "      <td>6</td>\n",
              "      <td>Jasone</td>\n",
              "      <td>17.0</td>\n",
              "      <td>580534920.0</td>\n",
              "      <td>Accountant</td>\n",
              "      <td>50050.83</td>\n",
              "      <td>4085.902500</td>\n",
              "      <td>9.0</td>\n",
              "      <td>10.0</td>\n",
              "      <td>...</td>\n",
              "      <td>Bad</td>\n",
              "      <td>3419.10</td>\n",
              "      <td>30.386321</td>\n",
              "      <td>54.0</td>\n",
              "      <td>Yes</td>\n",
              "      <td>190.445060</td>\n",
              "      <td>43.048082</td>\n",
              "      <td>High_spent_Large_value_payments</td>\n",
              "      <td>401.355749</td>\n",
              "      <td>Poor</td>\n",
              "    </tr>\n",
              "  </tbody>\n",
              "</table>\n",
              "<p>5 rows × 27 columns</p>\n",
              "</div>"
            ],
            "text/plain": [
              "        Customer_ID  Month               Name   Age          SSN  Occupation  \\\n",
              "ID                                                                             \n",
              "21034         11711      5  Abhishek Vishnoiw  51.0  370512390.0    Musician   \n",
              "24721         33127      8          Freifeldu  23.0  721850529.0      Writer   \n",
              "52063         14859      2               Huwo  49.0  618962558.0      Writer   \n",
              "97724         39499      3  Alex Dobuzinskiso  40.0  817314270.0      Doctor   \n",
              "140723         9530      6             Jasone  17.0  580534920.0  Accountant   \n",
              "\n",
              "        Annual_Income  Monthly_Inhand_Salary  Num_Bank_Accounts  \\\n",
              "ID                                                                \n",
              "21034       101583.48            8648.290000                5.0   \n",
              "24721       101926.95            8635.912500                4.0   \n",
              "52063       158871.12           12962.260000                0.0   \n",
              "97724        60379.28            4427.498453                5.0   \n",
              "140723       50050.83            4085.902500                9.0   \n",
              "\n",
              "        Num_Credit_Card  ...  Credit_Mix  Outstanding_Debt  \\\n",
              "ID                       ...                                 \n",
              "21034               7.0  ...    Standard             50.93   \n",
              "24721               4.0  ...    Standard           1058.00   \n",
              "52063               4.0  ...        Good            576.48   \n",
              "97724               6.0  ...    Standard            725.39   \n",
              "140723             10.0  ...         Bad           3419.10   \n",
              "\n",
              "       Credit_Utilization_Ratio  Credit_History_Age  Payment_of_Min_Amount  \\\n",
              "ID                                                                           \n",
              "21034                 34.462154               289.0                     No   \n",
              "24721                 39.693812               245.0                     No   \n",
              "52063                 39.367225               228.0                     No   \n",
              "97724                 29.061701               205.0                     NM   \n",
              "140723                30.386321                54.0                    Yes   \n",
              "\n",
              "        Total_EMI_per_month  Amount_invested_monthly  \\\n",
              "ID                                                     \n",
              "21034            190.811017                61.059177   \n",
              "24721             70.587681               165.540620   \n",
              "52063             86.905860               161.046502   \n",
              "97724             90.906385               125.769289   \n",
              "140723           190.445060                43.048082   \n",
              "\n",
              "                       Payment_Behaviour  Monthly_Balance  Credit_Score  \n",
              "ID                                                                       \n",
              "21034     Low_spent_Large_value_payments       314.002193      Standard  \n",
              "24721    Low_spent_Medium_value_payments       410.199642      Standard  \n",
              "52063    Low_spent_Medium_value_payments       742.514154      Standard  \n",
              "97724   High_spent_Medium_value_payments       473.135623      Standard  \n",
              "140723   High_spent_Large_value_payments       401.355749          Poor  \n",
              "\n",
              "[5 rows x 27 columns]"
            ]
          },
          "execution_count": 3,
          "metadata": {},
          "output_type": "execute_result"
        }
      ],
      "source": [
        "train_df = pd.read_csv(\"train.csv\", index_col=\"ID\")\n",
        "test_df = pd.read_csv(\"test.csv\", index_col=\"ID\")\n",
        "print(train_df.shape, test_df.shape)\n",
        "train_df.head()"
      ]
    },
    {
      "cell_type": "markdown",
      "metadata": {
        "id": "yH67XVo6imB0"
      },
      "source": [
        "# EDA"
      ]
    },
    {
      "cell_type": "markdown",
      "metadata": {
        "id": "NFPhDa8gi_Al"
      },
      "source": [
        "### 1. Data understanding"
      ]
    },
    {
      "cell_type": "markdown",
      "metadata": {
        "id": "VB6wZWJVjZy1"
      },
      "source": [
        "Для початку переглянемо тип даних кожної змінної та експліцитні пропуски."
      ]
    },
    {
      "cell_type": "code",
      "execution_count": 4,
      "metadata": {
        "colab": {
          "base_uri": "https://localhost:8080/",
          "height": 674
        },
        "id": "QKElrMwZ01g_",
        "outputId": "cbc45942-6034-4f9e-a9a5-561a87013941"
      },
      "outputs": [
        {
          "name": "stdout",
          "output_type": "stream",
          "text": [
            "<class 'pandas.core.frame.DataFrame'>\n",
            "Index: 80000 entries, 21034 to 145090\n",
            "Data columns (total 27 columns):\n",
            " #   Column                    Non-Null Count  Dtype  \n",
            "---  ------                    --------------  -----  \n",
            " 0   Customer_ID               80000 non-null  int64  \n",
            " 1   Month                     80000 non-null  int64  \n",
            " 2   Name                      80000 non-null  object \n",
            " 3   Age                       80000 non-null  float64\n",
            " 4   SSN                       80000 non-null  float64\n",
            " 5   Occupation                80000 non-null  object \n",
            " 6   Annual_Income             80000 non-null  float64\n",
            " 7   Monthly_Inhand_Salary     80000 non-null  float64\n",
            " 8   Num_Bank_Accounts         80000 non-null  float64\n",
            " 9   Num_Credit_Card           80000 non-null  float64\n",
            " 10  Interest_Rate             80000 non-null  float64\n",
            " 11  Num_of_Loan               80000 non-null  float64\n",
            " 12  Type_of_Loan              80000 non-null  object \n",
            " 13  Delay_from_due_date       80000 non-null  float64\n",
            " 14  Num_of_Delayed_Payment    80000 non-null  float64\n",
            " 15  Changed_Credit_Limit      80000 non-null  float64\n",
            " 16  Num_Credit_Inquiries      80000 non-null  float64\n",
            " 17  Credit_Mix                80000 non-null  object \n",
            " 18  Outstanding_Debt          80000 non-null  float64\n",
            " 19  Credit_Utilization_Ratio  80000 non-null  float64\n",
            " 20  Credit_History_Age        80000 non-null  float64\n",
            " 21  Payment_of_Min_Amount     80000 non-null  object \n",
            " 22  Total_EMI_per_month       80000 non-null  float64\n",
            " 23  Amount_invested_monthly   80000 non-null  float64\n",
            " 24  Payment_Behaviour         80000 non-null  object \n",
            " 25  Monthly_Balance           80000 non-null  float64\n",
            " 26  Credit_Score              80000 non-null  object \n",
            "dtypes: float64(18), int64(2), object(7)\n",
            "memory usage: 17.1+ MB\n",
            "\n"
          ]
        },
        {
          "data": {
            "text/plain": [
              "None"
            ]
          },
          "metadata": {},
          "output_type": "display_data"
        },
        {
          "data": {
            "text/plain": [
              "None"
            ]
          },
          "metadata": {},
          "output_type": "display_data"
        }
      ],
      "source": [
        "display(\n",
        "    train_df.info(),\n",
        "    print(),\n",
        ")"
      ]
    },
    {
      "cell_type": "code",
      "execution_count": 5,
      "metadata": {
        "colab": {
          "base_uri": "https://localhost:8080/",
          "height": 269
        },
        "id": "qSIB8MuM01nh",
        "outputId": "eb4be310-58c9-41af-f8c3-b3a0e2c68342"
      },
      "outputs": [
        {
          "data": {
            "text/html": [
              "<div>\n",
              "<style scoped>\n",
              "    .dataframe tbody tr th:only-of-type {\n",
              "        vertical-align: middle;\n",
              "    }\n",
              "\n",
              "    .dataframe tbody tr th {\n",
              "        vertical-align: top;\n",
              "    }\n",
              "\n",
              "    .dataframe thead th {\n",
              "        text-align: right;\n",
              "    }\n",
              "</style>\n",
              "<table border=\"1\" class=\"dataframe\">\n",
              "  <thead>\n",
              "    <tr style=\"text-align: right;\">\n",
              "      <th></th>\n",
              "      <th>count</th>\n",
              "      <th>unique</th>\n",
              "      <th>top</th>\n",
              "      <th>freq</th>\n",
              "    </tr>\n",
              "  </thead>\n",
              "  <tbody>\n",
              "    <tr>\n",
              "      <th>Name</th>\n",
              "      <td>80000</td>\n",
              "      <td>10128</td>\n",
              "      <td>Stevex</td>\n",
              "      <td>40</td>\n",
              "    </tr>\n",
              "    <tr>\n",
              "      <th>Occupation</th>\n",
              "      <td>80000</td>\n",
              "      <td>15</td>\n",
              "      <td>Lawyer</td>\n",
              "      <td>5692</td>\n",
              "    </tr>\n",
              "    <tr>\n",
              "      <th>Type_of_Loan</th>\n",
              "      <td>80000</td>\n",
              "      <td>6261</td>\n",
              "      <td>No Data</td>\n",
              "      <td>9157</td>\n",
              "    </tr>\n",
              "    <tr>\n",
              "      <th>Credit_Mix</th>\n",
              "      <td>80000</td>\n",
              "      <td>3</td>\n",
              "      <td>Standard</td>\n",
              "      <td>36699</td>\n",
              "    </tr>\n",
              "    <tr>\n",
              "      <th>Payment_of_Min_Amount</th>\n",
              "      <td>80000</td>\n",
              "      <td>3</td>\n",
              "      <td>Yes</td>\n",
              "      <td>41857</td>\n",
              "    </tr>\n",
              "    <tr>\n",
              "      <th>Payment_Behaviour</th>\n",
              "      <td>80000</td>\n",
              "      <td>6</td>\n",
              "      <td>Low_spent_Small_value_payments</td>\n",
              "      <td>22968</td>\n",
              "    </tr>\n",
              "    <tr>\n",
              "      <th>Credit_Score</th>\n",
              "      <td>80000</td>\n",
              "      <td>3</td>\n",
              "      <td>Standard</td>\n",
              "      <td>42539</td>\n",
              "    </tr>\n",
              "  </tbody>\n",
              "</table>\n",
              "</div>"
            ],
            "text/plain": [
              "                       count unique                             top   freq\n",
              "Name                   80000  10128                          Stevex     40\n",
              "Occupation             80000     15                          Lawyer   5692\n",
              "Type_of_Loan           80000   6261                         No Data   9157\n",
              "Credit_Mix             80000      3                        Standard  36699\n",
              "Payment_of_Min_Amount  80000      3                             Yes  41857\n",
              "Payment_Behaviour      80000      6  Low_spent_Small_value_payments  22968\n",
              "Credit_Score           80000      3                        Standard  42539"
            ]
          },
          "metadata": {},
          "output_type": "display_data"
        }
      ],
      "source": [
        "display(\n",
        "    train_df.describe(exclude=np.number).T\n",
        ")"
      ]
    },
    {
      "cell_type": "markdown",
      "metadata": {
        "id": "VNGVZ8U9k0bL"
      },
      "source": [
        "З цих таблицсь ми можемо зробити такі висновки:\n",
        "\n",
        "\n",
        "1.   Пропуски в даних позначені рядком \"No Data\";\n",
        "2.   Більшість осіб сплатили мінімальну суму;\n",
        "3.   У більшості осіб в кредитний рейтинг - Standart;\n",
        "4.   Більшість людей, що зверталися за позикою - юристи.\n",
        "\n",
        "\n"
      ]
    },
    {
      "cell_type": "code",
      "execution_count": 6,
      "metadata": {
        "colab": {
          "base_uri": "https://localhost:8080/"
        },
        "id": "EsHVmwZM01qK",
        "outputId": "4f3f331e-8247-4f93-bcea-ff999d41bf3c"
      },
      "outputs": [
        {
          "data": {
            "text/plain": [
              "Customer_ID                 0\n",
              "Month                       0\n",
              "Name                        0\n",
              "Age                         0\n",
              "SSN                         0\n",
              "Occupation                  0\n",
              "Annual_Income               0\n",
              "Monthly_Inhand_Salary       0\n",
              "Num_Bank_Accounts           0\n",
              "Num_Credit_Card             0\n",
              "Interest_Rate               0\n",
              "Num_of_Loan                 0\n",
              "Type_of_Loan                0\n",
              "Delay_from_due_date         0\n",
              "Num_of_Delayed_Payment      0\n",
              "Changed_Credit_Limit        0\n",
              "Num_Credit_Inquiries        0\n",
              "Credit_Mix                  0\n",
              "Outstanding_Debt            0\n",
              "Credit_Utilization_Ratio    0\n",
              "Credit_History_Age          0\n",
              "Payment_of_Min_Amount       0\n",
              "Total_EMI_per_month         0\n",
              "Amount_invested_monthly     0\n",
              "Payment_Behaviour           0\n",
              "Monthly_Balance             0\n",
              "Credit_Score                0\n",
              "dtype: int64"
            ]
          },
          "execution_count": 6,
          "metadata": {},
          "output_type": "execute_result"
        }
      ],
      "source": [
        "train_df.isna().sum()"
      ]
    },
    {
      "cell_type": "markdown",
      "metadata": {
        "id": "K9LtjuWynmbW"
      },
      "source": [
        "### 2. Data examining"
      ]
    },
    {
      "cell_type": "markdown",
      "metadata": {
        "id": "bX8wOKtYILZV"
      },
      "source": [
        "Спочатку перевіряю наявність дублікатів в тренувальному датасеті."
      ]
    },
    {
      "cell_type": "code",
      "execution_count": 7,
      "metadata": {
        "colab": {
          "base_uri": "https://localhost:8080/",
          "height": 130
        },
        "id": "YHVfndJZH9sY",
        "outputId": "38f45156-2365-4c88-9b9c-3f3ae33ffde4"
      },
      "outputs": [
        {
          "data": {
            "text/html": [
              "<div>\n",
              "<style scoped>\n",
              "    .dataframe tbody tr th:only-of-type {\n",
              "        vertical-align: middle;\n",
              "    }\n",
              "\n",
              "    .dataframe tbody tr th {\n",
              "        vertical-align: top;\n",
              "    }\n",
              "\n",
              "    .dataframe thead th {\n",
              "        text-align: right;\n",
              "    }\n",
              "</style>\n",
              "<table border=\"1\" class=\"dataframe\">\n",
              "  <thead>\n",
              "    <tr style=\"text-align: right;\">\n",
              "      <th></th>\n",
              "      <th>Customer_ID</th>\n",
              "      <th>Month</th>\n",
              "      <th>Name</th>\n",
              "      <th>Age</th>\n",
              "      <th>SSN</th>\n",
              "      <th>Occupation</th>\n",
              "      <th>Annual_Income</th>\n",
              "      <th>Monthly_Inhand_Salary</th>\n",
              "      <th>Num_Bank_Accounts</th>\n",
              "      <th>Num_Credit_Card</th>\n",
              "      <th>...</th>\n",
              "      <th>Credit_Mix</th>\n",
              "      <th>Outstanding_Debt</th>\n",
              "      <th>Credit_Utilization_Ratio</th>\n",
              "      <th>Credit_History_Age</th>\n",
              "      <th>Payment_of_Min_Amount</th>\n",
              "      <th>Total_EMI_per_month</th>\n",
              "      <th>Amount_invested_monthly</th>\n",
              "      <th>Payment_Behaviour</th>\n",
              "      <th>Monthly_Balance</th>\n",
              "      <th>Credit_Score</th>\n",
              "    </tr>\n",
              "    <tr>\n",
              "      <th>ID</th>\n",
              "      <th></th>\n",
              "      <th></th>\n",
              "      <th></th>\n",
              "      <th></th>\n",
              "      <th></th>\n",
              "      <th></th>\n",
              "      <th></th>\n",
              "      <th></th>\n",
              "      <th></th>\n",
              "      <th></th>\n",
              "      <th></th>\n",
              "      <th></th>\n",
              "      <th></th>\n",
              "      <th></th>\n",
              "      <th></th>\n",
              "      <th></th>\n",
              "      <th></th>\n",
              "      <th></th>\n",
              "      <th></th>\n",
              "      <th></th>\n",
              "      <th></th>\n",
              "    </tr>\n",
              "  </thead>\n",
              "  <tbody>\n",
              "  </tbody>\n",
              "</table>\n",
              "<p>0 rows × 27 columns</p>\n",
              "</div>"
            ],
            "text/plain": [
              "Empty DataFrame\n",
              "Columns: [Customer_ID, Month, Name, Age, SSN, Occupation, Annual_Income, Monthly_Inhand_Salary, Num_Bank_Accounts, Num_Credit_Card, Interest_Rate, Num_of_Loan, Type_of_Loan, Delay_from_due_date, Num_of_Delayed_Payment, Changed_Credit_Limit, Num_Credit_Inquiries, Credit_Mix, Outstanding_Debt, Credit_Utilization_Ratio, Credit_History_Age, Payment_of_Min_Amount, Total_EMI_per_month, Amount_invested_monthly, Payment_Behaviour, Monthly_Balance, Credit_Score]\n",
              "Index: []\n",
              "\n",
              "[0 rows x 27 columns]"
            ]
          },
          "execution_count": 7,
          "metadata": {},
          "output_type": "execute_result"
        }
      ],
      "source": [
        "train_df[train_df.duplicated()]\n",
        "# test_df[test_df.duplicated()]"
      ]
    },
    {
      "cell_type": "markdown",
      "metadata": {
        "id": "yKB1pM3OoM8h"
      },
      "source": [
        "Далі перевіряю, які унікальні значення є серед категоріальних даних."
      ]
    },
    {
      "cell_type": "code",
      "execution_count": 8,
      "metadata": {
        "colab": {
          "base_uri": "https://localhost:8080/"
        },
        "id": "4n4tWonNnGuw",
        "outputId": "c320ce42-7de1-49db-9e4e-2a35e9a7f7fb"
      },
      "outputs": [
        {
          "name": "stdout",
          "output_type": "stream",
          "text": [
            "------------------------------\n",
            "Кількість унікальних значень змінної Name: 10128\n",
            "['Abhishek Vishnoiw' 'Freifeldu' 'Huwo' ... 'John Acherd' 'Alisterd'\n",
            " 'Cremere']\n",
            "------------------------------\n",
            "Кількість унікальних значень змінної Occupation: 15\n",
            "['Musician' 'Writer' 'Doctor' 'Accountant' 'Engineer' 'Manager'\n",
            " 'Media_Manager' 'Teacher' 'Developer' 'Architect' 'Mechanic' 'Journalist'\n",
            " 'Lawyer' 'Entrepreneur' 'Scientist']\n",
            "------------------------------\n",
            "Кількість унікальних значень змінної Type_of_Loan: 6261\n",
            "['Payday Loan, Student Loan, Payday Loan, and Debt Consolidation Loan'\n",
            " 'Mortgage Loan' 'Home Equity Loan' ...\n",
            " 'Personal Loan, Mortgage Loan, Not Specified, Auto Loan, Debt Consolidation Loan, Credit-Builder Loan, and Auto Loan'\n",
            " 'Credit-Builder Loan, Auto Loan, Debt Consolidation Loan, and Personal Loan'\n",
            " 'Debt Consolidation Loan, Auto Loan, Debt Consolidation Loan, and Auto Loan']\n",
            "------------------------------\n",
            "Кількість унікальних значень змінної Credit_Mix: 3\n",
            "['Standard' 'Good' 'Bad']\n",
            "------------------------------\n",
            "Кількість унікальних значень змінної Payment_of_Min_Amount: 3\n",
            "['No' 'NM' 'Yes']\n",
            "------------------------------\n",
            "Кількість унікальних значень змінної Payment_Behaviour: 6\n",
            "['Low_spent_Large_value_payments' 'Low_spent_Medium_value_payments'\n",
            " 'High_spent_Medium_value_payments' 'High_spent_Large_value_payments'\n",
            " 'Low_spent_Small_value_payments' 'High_spent_Small_value_payments']\n",
            "------------------------------\n",
            "Кількість унікальних значень змінної Credit_Score: 3\n",
            "['Standard' 'Poor' 'Good']\n"
          ]
        }
      ],
      "source": [
        "object_columns = train_df.describe(include='O').columns\n",
        "\n",
        "for column in object_columns:\n",
        "  print(\"------------------------------\")\n",
        "  print(f\"Кількість унікальних значень змінної {column}:\", train_df[column].nunique())\n",
        "  print(train_df[column].unique())\n"
      ]
    },
    {
      "cell_type": "markdown",
      "metadata": {
        "id": "ytIJ0KLLrOEd"
      },
      "source": [
        "Тепер я проводжу уніфікацію пропусків у датасеті."
      ]
    },
    {
      "cell_type": "code",
      "execution_count": 9,
      "metadata": {
        "colab": {
          "base_uri": "https://localhost:8080/"
        },
        "id": "0_41nsXbnGxh",
        "outputId": "8a3d492d-6e35-4a8c-da9b-be7159502406"
      },
      "outputs": [
        {
          "name": "stderr",
          "output_type": "stream",
          "text": [
            "D:\\Users\\Евгений Артёменко\\AppData\\Local\\Temp\\ipykernel_16888\\258346291.py:7: FutureWarning: DataFrame.applymap has been deprecated. Use DataFrame.map instead.\n",
            "  train_df = train_df.applymap(text_cleaning).replace(['', 'NaN','No Data', 'nan'], np.NaN)\n"
          ]
        },
        {
          "name": "stdout",
          "output_type": "stream",
          "text": [
            "Customer_ID                    0\n",
            "Month                          0\n",
            "Name                           0\n",
            "Age                            0\n",
            "SSN                            0\n",
            "Occupation                     0\n",
            "Annual_Income                  0\n",
            "Monthly_Inhand_Salary          0\n",
            "Num_Bank_Accounts              0\n",
            "Num_Credit_Card                0\n",
            "Interest_Rate                  0\n",
            "Num_of_Loan                    0\n",
            "Type_of_Loan                9157\n",
            "Delay_from_due_date            0\n",
            "Num_of_Delayed_Payment         0\n",
            "Changed_Credit_Limit           0\n",
            "Num_Credit_Inquiries           0\n",
            "Credit_Mix                     0\n",
            "Outstanding_Debt               0\n",
            "Credit_Utilization_Ratio       0\n",
            "Credit_History_Age             0\n",
            "Payment_of_Min_Amount          0\n",
            "Total_EMI_per_month            0\n",
            "Amount_invested_monthly        0\n",
            "Payment_Behaviour              0\n",
            "Monthly_Balance                0\n",
            "Credit_Score                   0\n",
            "dtype: int64\n"
          ]
        }
      ],
      "source": [
        "def text_cleaning(data):\n",
        "    if data is np.NaN or not isinstance(data, str):\n",
        "        return data\n",
        "    else:\n",
        "        return str(data).strip('_ ,\"')\n",
        "\n",
        "train_df = train_df.applymap(text_cleaning).replace(['', 'NaN','No Data', 'nan'], np.NaN)\n",
        "\n",
        "print(train_df.isna().sum())\n",
        "\n",
        "train_df.Type_of_Loan = train_df.Type_of_Loan.fillna(train_df.Type_of_Loan.mode()[0])"
      ]
    },
    {
      "cell_type": "markdown",
      "metadata": {
        "id": "EhYyYNRBJmdM"
      },
      "source": [
        "Оскільки найбільша кількість пропусків у категоріальної змінної Type_of_Loan, я замінюю їх модою. Те ж саме роблю для тестової вибірки."
      ]
    },
    {
      "cell_type": "code",
      "execution_count": 10,
      "metadata": {
        "colab": {
          "base_uri": "https://localhost:8080/"
        },
        "id": "Tn3qxdW8JVDa",
        "outputId": "7e643491-111d-45a6-9b72-49a352357f0a"
      },
      "outputs": [
        {
          "name": "stderr",
          "output_type": "stream",
          "text": [
            "D:\\Users\\Евгений Артёменко\\AppData\\Local\\Temp\\ipykernel_16888\\641494619.py:1: FutureWarning: DataFrame.applymap has been deprecated. Use DataFrame.map instead.\n",
            "  test_df = test_df.applymap(text_cleaning).replace(['', 'NaN','No Data', 'nan'], np.NaN)\n"
          ]
        },
        {
          "name": "stdout",
          "output_type": "stream",
          "text": [
            "Customer_ID                    0\n",
            "Month                          0\n",
            "Name                           0\n",
            "Age                            0\n",
            "SSN                            0\n",
            "Occupation                     0\n",
            "Annual_Income                  0\n",
            "Monthly_Inhand_Salary          0\n",
            "Num_Bank_Accounts              0\n",
            "Num_Credit_Card                0\n",
            "Interest_Rate                  0\n",
            "Num_of_Loan                    0\n",
            "Type_of_Loan                2251\n",
            "Delay_from_due_date            0\n",
            "Num_of_Delayed_Payment         0\n",
            "Changed_Credit_Limit           0\n",
            "Num_Credit_Inquiries           0\n",
            "Credit_Mix                     0\n",
            "Outstanding_Debt               0\n",
            "Credit_Utilization_Ratio       0\n",
            "Credit_History_Age             0\n",
            "Payment_of_Min_Amount          0\n",
            "Total_EMI_per_month            0\n",
            "Amount_invested_monthly        0\n",
            "Payment_Behaviour              0\n",
            "Monthly_Balance                0\n",
            "dtype: int64\n"
          ]
        }
      ],
      "source": [
        "test_df = test_df.applymap(text_cleaning).replace(['', 'NaN','No Data', 'nan'], np.NaN)\n",
        "\n",
        "print(test_df.isna().sum())\n",
        "\n",
        "test_df.Type_of_Loan = test_df.Type_of_Loan.fillna(test_df.Type_of_Loan.mode()[0])"
      ]
    },
    {
      "cell_type": "markdown",
      "metadata": {
        "id": "D55YYfGtNvqu"
      },
      "source": [
        "### 3. Plotting data"
      ]
    },
    {
      "cell_type": "code",
      "execution_count": 11,
      "metadata": {
        "colab": {
          "base_uri": "https://localhost:8080/",
          "height": 669
        },
        "id": "W2YFPbTQOMoO",
        "outputId": "3cf00c12-8574-4616-accb-53342fbbb11c"
      },
      "outputs": [
        {
          "name": "stderr",
          "output_type": "stream",
          "text": [
            "d:\\Users\\Евгений Артёменко\\PycharmProjects\\Projects\\neural_networks\\venv\\Lib\\site-packages\\seaborn\\_oldcore.py:1119: FutureWarning: use_inf_as_na option is deprecated and will be removed in a future version. Convert inf values to NaN before operating instead.\n",
            "  with pd.option_context('mode.use_inf_as_na', True):\n",
            "d:\\Users\\Евгений Артёменко\\PycharmProjects\\Projects\\neural_networks\\venv\\Lib\\site-packages\\seaborn\\_oldcore.py:1119: FutureWarning: use_inf_as_na option is deprecated and will be removed in a future version. Convert inf values to NaN before operating instead.\n",
            "  with pd.option_context('mode.use_inf_as_na', True):\n",
            "d:\\Users\\Евгений Артёменко\\PycharmProjects\\Projects\\neural_networks\\venv\\Lib\\site-packages\\seaborn\\_oldcore.py:1119: FutureWarning: use_inf_as_na option is deprecated and will be removed in a future version. Convert inf values to NaN before operating instead.\n",
            "  with pd.option_context('mode.use_inf_as_na', True):\n",
            "d:\\Users\\Евгений Артёменко\\PycharmProjects\\Projects\\neural_networks\\venv\\Lib\\site-packages\\seaborn\\_oldcore.py:1119: FutureWarning: use_inf_as_na option is deprecated and will be removed in a future version. Convert inf values to NaN before operating instead.\n",
            "  with pd.option_context('mode.use_inf_as_na', True):\n",
            "d:\\Users\\Евгений Артёменко\\PycharmProjects\\Projects\\neural_networks\\venv\\Lib\\site-packages\\seaborn\\_oldcore.py:1119: FutureWarning: use_inf_as_na option is deprecated and will be removed in a future version. Convert inf values to NaN before operating instead.\n",
            "  with pd.option_context('mode.use_inf_as_na', True):\n",
            "d:\\Users\\Евгений Артёменко\\PycharmProjects\\Projects\\neural_networks\\venv\\Lib\\site-packages\\seaborn\\_oldcore.py:1119: FutureWarning: use_inf_as_na option is deprecated and will be removed in a future version. Convert inf values to NaN before operating instead.\n",
            "  with pd.option_context('mode.use_inf_as_na', True):\n",
            "d:\\Users\\Евгений Артёменко\\PycharmProjects\\Projects\\neural_networks\\venv\\Lib\\site-packages\\seaborn\\_oldcore.py:1119: FutureWarning: use_inf_as_na option is deprecated and will be removed in a future version. Convert inf values to NaN before operating instead.\n",
            "  with pd.option_context('mode.use_inf_as_na', True):\n"
          ]
        },
        {
          "data": {
            "text/plain": [
              "<Axes: xlabel='Total_EMI_per_month', ylabel='Count'>"
            ]
          },
          "execution_count": 11,
          "metadata": {},
          "output_type": "execute_result"
        },
        {
          "data": {
            "image/png": "[encoded data removed]",
            "text/plain": [
              "<Figure size 1500x1000 with 12 Axes>"
            ]
          },
          "metadata": {},
          "output_type": "display_data"
        }
      ],
      "source": [
        "figure, ax = plt.subplots(4, 3, figsize=(15, 10))\n",
        "\n",
        "sns.countplot(data=train_df, x=train_df.Credit_Score, ax=ax[0, 0], palette=\"mako\")\n",
        "sns.countplot(data=train_df, x=train_df.Credit_Mix, ax=ax[0, 1], palette=\"mako\")\n",
        "sns.countplot(\n",
        "    data=train_df, x=train_df.Payment_of_Min_Amount, ax=ax[0, 2], palette=\"mako\"\n",
        ")\n",
        "\n",
        "sns.histplot(data=train_df, x=train_df.Monthly_Inhand_Salary, ax=ax[1, 0], kde=True, color=\"indigo\")\n",
        "sns.histplot(data=train_df, x=train_df.Delay_from_due_date, ax=ax[1, 1], kde=True, color=\"indigo\")\n",
        "sns.histplot(data=train_df, x=train_df.Credit_Utilization_Ratio, ax=ax[1, 2], kde=True, color=\"indigo\")\n",
        "\n",
        "sns.countplot(data=train_df, x=train_df.Num_Bank_Accounts, ax=ax[2, 0], palette=\"mako\")\n",
        "sns.countplot(data=train_df, x=train_df.Num_Credit_Card, ax=ax[2, 1], palette=\"mako\")\n",
        "sns.histplot(data=train_df, x=train_df.Annual_Income, ax=ax[2, 2], kde=True, color=\"indigo\")\n",
        "\n",
        "sns.histplot(data=train_df, x=train_df.Interest_Rate, ax=ax[3, 0], kde=True, color=\"indigo\")\n",
        "sns.histplot(data=train_df, x=train_df.Num_Credit_Inquiries, ax=ax[3, 1], kde=True, color=\"indigo\")\n",
        "sns.histplot(data=train_df, x=train_df.Total_EMI_per_month, ax=ax[3, 2], kde=True, color=\"indigo\")"
      ]
    },
    {
      "cell_type": "markdown",
      "metadata": {},
      "source": [
        "**Висновки щодо EDA**\n",
        "\n",
        "1. Змінна Type_of_Loan мала багато пропусків в навчальному та тренувальному датасеті, вони були замінені модою по змінній;\n",
        "2. Змінна Payment_of_Min_Аmount має нормальний розподіл;\n",
        "3. Майже всі чисельні змінні мають багато викидів;\n",
        "4. Розподіл більшості даних відмінний від нормального, отже змінні потребують нормалізації."
      ]
    },
    {
      "cell_type": "markdown",
      "metadata": {
        "id": "2HoKXQz1-fCh"
      },
      "source": [
        "# Data preprocessing"
      ]
    },
    {
      "cell_type": "markdown",
      "metadata": {
        "id": "4jHSuTEkRM7k"
      },
      "source": [
        "### 1. Encoding"
      ]
    },
    {
      "cell_type": "markdown",
      "metadata": {
        "id": "2LqiEm3K-6V9"
      },
      "source": [
        "**Type_of_Loan**\n",
        "\n",
        "Проаналізувавши змінну Type_of_Loan я прийшов до висновку, що лише 9 перших значення є унікальними:\n",
        "- 'Not Specified',\n",
        "- 'Debt Consolidation Loan',\n",
        "- 'Personal Loan',\n",
        "- 'Credit-Builder Loan',\n",
        "- 'Student Loan',\n",
        "- 'Payday Loan',\n",
        "- 'Auto Loan',\n",
        "- 'Mortgage Loan',\n",
        "- 'Home Equity Loan',\n",
        "- 'Personal Loan, and Student Loan',\n",
        "- 'Student Loan, and Payday Loan'\n",
        "\n",
        "Всі інші значення є комбінаціями вищезазначених. Тому я створюю дев'ять нових змінних, що будуть відповідати основним типам позик. Змінну Type_of_Loan я видаляю, а новостворені заповнюю значеннями 0 та 1."
      ]
    },
    {
      "cell_type": "code",
      "execution_count": 12,
      "metadata": {
        "colab": {
          "base_uri": "https://localhost:8080/",
          "height": 276
        },
        "id": "O9PVijKWOMqq",
        "outputId": "e8b638d5-a68d-4742-9013-c3ba17198b65"
      },
      "outputs": [
        {
          "name": "stderr",
          "output_type": "stream",
          "text": [
            "D:\\Users\\Евгений Артёменко\\AppData\\Local\\Temp\\ipykernel_16888\\2529273901.py:3: FutureWarning: Downcasting behavior in `replace` is deprecated and will be removed in a future version. To retain the old behavior, explicitly call `result.infer_objects(copy=False)`. To opt-in to the future behavior, set `pd.set_option('future.no_silent_downcasting', True)`\n",
            "  train_df[i] = train_df[i].replace({False: 0, True: 1})\n",
            "D:\\Users\\Евгений Артёменко\\AppData\\Local\\Temp\\ipykernel_16888\\2529273901.py:3: FutureWarning: Downcasting behavior in `replace` is deprecated and will be removed in a future version. To retain the old behavior, explicitly call `result.infer_objects(copy=False)`. To opt-in to the future behavior, set `pd.set_option('future.no_silent_downcasting', True)`\n",
            "  train_df[i] = train_df[i].replace({False: 0, True: 1})\n",
            "D:\\Users\\Евгений Артёменко\\AppData\\Local\\Temp\\ipykernel_16888\\2529273901.py:3: FutureWarning: Downcasting behavior in `replace` is deprecated and will be removed in a future version. To retain the old behavior, explicitly call `result.infer_objects(copy=False)`. To opt-in to the future behavior, set `pd.set_option('future.no_silent_downcasting', True)`\n",
            "  train_df[i] = train_df[i].replace({False: 0, True: 1})\n",
            "D:\\Users\\Евгений Артёменко\\AppData\\Local\\Temp\\ipykernel_16888\\2529273901.py:3: FutureWarning: Downcasting behavior in `replace` is deprecated and will be removed in a future version. To retain the old behavior, explicitly call `result.infer_objects(copy=False)`. To opt-in to the future behavior, set `pd.set_option('future.no_silent_downcasting', True)`\n",
            "  train_df[i] = train_df[i].replace({False: 0, True: 1})\n",
            "D:\\Users\\Евгений Артёменко\\AppData\\Local\\Temp\\ipykernel_16888\\2529273901.py:3: FutureWarning: Downcasting behavior in `replace` is deprecated and will be removed in a future version. To retain the old behavior, explicitly call `result.infer_objects(copy=False)`. To opt-in to the future behavior, set `pd.set_option('future.no_silent_downcasting', True)`\n",
            "  train_df[i] = train_df[i].replace({False: 0, True: 1})\n",
            "D:\\Users\\Евгений Артёменко\\AppData\\Local\\Temp\\ipykernel_16888\\2529273901.py:3: FutureWarning: Downcasting behavior in `replace` is deprecated and will be removed in a future version. To retain the old behavior, explicitly call `result.infer_objects(copy=False)`. To opt-in to the future behavior, set `pd.set_option('future.no_silent_downcasting', True)`\n",
            "  train_df[i] = train_df[i].replace({False: 0, True: 1})\n",
            "D:\\Users\\Евгений Артёменко\\AppData\\Local\\Temp\\ipykernel_16888\\2529273901.py:3: FutureWarning: Downcasting behavior in `replace` is deprecated and will be removed in a future version. To retain the old behavior, explicitly call `result.infer_objects(copy=False)`. To opt-in to the future behavior, set `pd.set_option('future.no_silent_downcasting', True)`\n",
            "  train_df[i] = train_df[i].replace({False: 0, True: 1})\n",
            "D:\\Users\\Евгений Артёменко\\AppData\\Local\\Temp\\ipykernel_16888\\2529273901.py:3: FutureWarning: Downcasting behavior in `replace` is deprecated and will be removed in a future version. To retain the old behavior, explicitly call `result.infer_objects(copy=False)`. To opt-in to the future behavior, set `pd.set_option('future.no_silent_downcasting', True)`\n",
            "  train_df[i] = train_df[i].replace({False: 0, True: 1})\n",
            "D:\\Users\\Евгений Артёменко\\AppData\\Local\\Temp\\ipykernel_16888\\2529273901.py:8: FutureWarning: Downcasting behavior in `replace` is deprecated and will be removed in a future version. To retain the old behavior, explicitly call `result.infer_objects(copy=False)`. To opt-in to the future behavior, set `pd.set_option('future.no_silent_downcasting', True)`\n",
            "  test_df[i] = test_df[i].replace({False: 0, True: 1})\n",
            "D:\\Users\\Евгений Артёменко\\AppData\\Local\\Temp\\ipykernel_16888\\2529273901.py:8: FutureWarning: Downcasting behavior in `replace` is deprecated and will be removed in a future version. To retain the old behavior, explicitly call `result.infer_objects(copy=False)`. To opt-in to the future behavior, set `pd.set_option('future.no_silent_downcasting', True)`\n",
            "  test_df[i] = test_df[i].replace({False: 0, True: 1})\n",
            "D:\\Users\\Евгений Артёменко\\AppData\\Local\\Temp\\ipykernel_16888\\2529273901.py:8: FutureWarning: Downcasting behavior in `replace` is deprecated and will be removed in a future version. To retain the old behavior, explicitly call `result.infer_objects(copy=False)`. To opt-in to the future behavior, set `pd.set_option('future.no_silent_downcasting', True)`\n",
            "  test_df[i] = test_df[i].replace({False: 0, True: 1})\n",
            "D:\\Users\\Евгений Артёменко\\AppData\\Local\\Temp\\ipykernel_16888\\2529273901.py:8: FutureWarning: Downcasting behavior in `replace` is deprecated and will be removed in a future version. To retain the old behavior, explicitly call `result.infer_objects(copy=False)`. To opt-in to the future behavior, set `pd.set_option('future.no_silent_downcasting', True)`\n",
            "  test_df[i] = test_df[i].replace({False: 0, True: 1})\n",
            "D:\\Users\\Евгений Артёменко\\AppData\\Local\\Temp\\ipykernel_16888\\2529273901.py:8: FutureWarning: Downcasting behavior in `replace` is deprecated and will be removed in a future version. To retain the old behavior, explicitly call `result.infer_objects(copy=False)`. To opt-in to the future behavior, set `pd.set_option('future.no_silent_downcasting', True)`\n",
            "  test_df[i] = test_df[i].replace({False: 0, True: 1})\n",
            "D:\\Users\\Евгений Артёменко\\AppData\\Local\\Temp\\ipykernel_16888\\2529273901.py:8: FutureWarning: Downcasting behavior in `replace` is deprecated and will be removed in a future version. To retain the old behavior, explicitly call `result.infer_objects(copy=False)`. To opt-in to the future behavior, set `pd.set_option('future.no_silent_downcasting', True)`\n",
            "  test_df[i] = test_df[i].replace({False: 0, True: 1})\n",
            "D:\\Users\\Евгений Артёменко\\AppData\\Local\\Temp\\ipykernel_16888\\2529273901.py:8: FutureWarning: Downcasting behavior in `replace` is deprecated and will be removed in a future version. To retain the old behavior, explicitly call `result.infer_objects(copy=False)`. To opt-in to the future behavior, set `pd.set_option('future.no_silent_downcasting', True)`\n",
            "  test_df[i] = test_df[i].replace({False: 0, True: 1})\n",
            "D:\\Users\\Евгений Артёменко\\AppData\\Local\\Temp\\ipykernel_16888\\2529273901.py:8: FutureWarning: Downcasting behavior in `replace` is deprecated and will be removed in a future version. To retain the old behavior, explicitly call `result.infer_objects(copy=False)`. To opt-in to the future behavior, set `pd.set_option('future.no_silent_downcasting', True)`\n",
            "  test_df[i] = test_df[i].replace({False: 0, True: 1})\n"
          ]
        },
        {
          "data": {
            "text/html": [
              "<div>\n",
              "<style scoped>\n",
              "    .dataframe tbody tr th:only-of-type {\n",
              "        vertical-align: middle;\n",
              "    }\n",
              "\n",
              "    .dataframe tbody tr th {\n",
              "        vertical-align: top;\n",
              "    }\n",
              "\n",
              "    .dataframe thead th {\n",
              "        text-align: right;\n",
              "    }\n",
              "</style>\n",
              "<table border=\"1\" class=\"dataframe\">\n",
              "  <thead>\n",
              "    <tr style=\"text-align: right;\">\n",
              "      <th></th>\n",
              "      <th>Customer_ID</th>\n",
              "      <th>Month</th>\n",
              "      <th>Name</th>\n",
              "      <th>Age</th>\n",
              "      <th>SSN</th>\n",
              "      <th>Occupation</th>\n",
              "      <th>Annual_Income</th>\n",
              "      <th>Monthly_Inhand_Salary</th>\n",
              "      <th>Num_Bank_Accounts</th>\n",
              "      <th>Num_Credit_Card</th>\n",
              "      <th>...</th>\n",
              "      <th>Monthly_Balance</th>\n",
              "      <th>Credit_Score</th>\n",
              "      <th>Credit-Builder Loan</th>\n",
              "      <th>Student Loan</th>\n",
              "      <th>Personal Loan</th>\n",
              "      <th>Debt Consolidation Loan</th>\n",
              "      <th>Payday Loan</th>\n",
              "      <th>Mortgage Loan</th>\n",
              "      <th>Auto Loan</th>\n",
              "      <th>Home Equity Loan</th>\n",
              "    </tr>\n",
              "    <tr>\n",
              "      <th>ID</th>\n",
              "      <th></th>\n",
              "      <th></th>\n",
              "      <th></th>\n",
              "      <th></th>\n",
              "      <th></th>\n",
              "      <th></th>\n",
              "      <th></th>\n",
              "      <th></th>\n",
              "      <th></th>\n",
              "      <th></th>\n",
              "      <th></th>\n",
              "      <th></th>\n",
              "      <th></th>\n",
              "      <th></th>\n",
              "      <th></th>\n",
              "      <th></th>\n",
              "      <th></th>\n",
              "      <th></th>\n",
              "      <th></th>\n",
              "      <th></th>\n",
              "      <th></th>\n",
              "    </tr>\n",
              "  </thead>\n",
              "  <tbody>\n",
              "    <tr>\n",
              "      <th>21034</th>\n",
              "      <td>11711</td>\n",
              "      <td>5</td>\n",
              "      <td>Abhishek Vishnoiw</td>\n",
              "      <td>51.0</td>\n",
              "      <td>370512390.0</td>\n",
              "      <td>Musician</td>\n",
              "      <td>101583.48</td>\n",
              "      <td>8648.2900</td>\n",
              "      <td>5.0</td>\n",
              "      <td>7.0</td>\n",
              "      <td>...</td>\n",
              "      <td>314.002193</td>\n",
              "      <td>Standard</td>\n",
              "      <td>0</td>\n",
              "      <td>1</td>\n",
              "      <td>0</td>\n",
              "      <td>1</td>\n",
              "      <td>1</td>\n",
              "      <td>0</td>\n",
              "      <td>0</td>\n",
              "      <td>0</td>\n",
              "    </tr>\n",
              "    <tr>\n",
              "      <th>24721</th>\n",
              "      <td>33127</td>\n",
              "      <td>8</td>\n",
              "      <td>Freifeldu</td>\n",
              "      <td>23.0</td>\n",
              "      <td>721850529.0</td>\n",
              "      <td>Writer</td>\n",
              "      <td>101926.95</td>\n",
              "      <td>8635.9125</td>\n",
              "      <td>4.0</td>\n",
              "      <td>4.0</td>\n",
              "      <td>...</td>\n",
              "      <td>410.199642</td>\n",
              "      <td>Standard</td>\n",
              "      <td>0</td>\n",
              "      <td>0</td>\n",
              "      <td>0</td>\n",
              "      <td>0</td>\n",
              "      <td>0</td>\n",
              "      <td>1</td>\n",
              "      <td>0</td>\n",
              "      <td>0</td>\n",
              "    </tr>\n",
              "    <tr>\n",
              "      <th>52063</th>\n",
              "      <td>14859</td>\n",
              "      <td>2</td>\n",
              "      <td>Huwo</td>\n",
              "      <td>49.0</td>\n",
              "      <td>618962558.0</td>\n",
              "      <td>Writer</td>\n",
              "      <td>158871.12</td>\n",
              "      <td>12962.2600</td>\n",
              "      <td>0.0</td>\n",
              "      <td>4.0</td>\n",
              "      <td>...</td>\n",
              "      <td>742.514154</td>\n",
              "      <td>Standard</td>\n",
              "      <td>0</td>\n",
              "      <td>0</td>\n",
              "      <td>0</td>\n",
              "      <td>0</td>\n",
              "      <td>0</td>\n",
              "      <td>0</td>\n",
              "      <td>0</td>\n",
              "      <td>1</td>\n",
              "    </tr>\n",
              "  </tbody>\n",
              "</table>\n",
              "<p>3 rows × 34 columns</p>\n",
              "</div>"
            ],
            "text/plain": [
              "       Customer_ID  Month               Name   Age          SSN Occupation  \\\n",
              "ID                                                                           \n",
              "21034        11711      5  Abhishek Vishnoiw  51.0  370512390.0   Musician   \n",
              "24721        33127      8          Freifeldu  23.0  721850529.0     Writer   \n",
              "52063        14859      2               Huwo  49.0  618962558.0     Writer   \n",
              "\n",
              "       Annual_Income  Monthly_Inhand_Salary  Num_Bank_Accounts  \\\n",
              "ID                                                               \n",
              "21034      101583.48              8648.2900                5.0   \n",
              "24721      101926.95              8635.9125                4.0   \n",
              "52063      158871.12             12962.2600                0.0   \n",
              "\n",
              "       Num_Credit_Card  ...  Monthly_Balance  Credit_Score  \\\n",
              "ID                      ...                                  \n",
              "21034              7.0  ...       314.002193      Standard   \n",
              "24721              4.0  ...       410.199642      Standard   \n",
              "52063              4.0  ...       742.514154      Standard   \n",
              "\n",
              "       Credit-Builder Loan  Student Loan  Personal Loan  \\\n",
              "ID                                                        \n",
              "21034                    0             1              0   \n",
              "24721                    0             0              0   \n",
              "52063                    0             0              0   \n",
              "\n",
              "       Debt Consolidation Loan Payday Loan  Mortgage Loan  Auto Loan  \\\n",
              "ID                                                                     \n",
              "21034                        1           1              0          0   \n",
              "24721                        0           0              1          0   \n",
              "52063                        0           0              0          0   \n",
              "\n",
              "       Home Equity Loan  \n",
              "ID                       \n",
              "21034                 0  \n",
              "24721                 0  \n",
              "52063                 1  \n",
              "\n",
              "[3 rows x 34 columns]"
            ]
          },
          "execution_count": 12,
          "metadata": {},
          "output_type": "execute_result"
        }
      ],
      "source": [
        "for i in train_df.Type_of_Loan.value_counts().head(9).index[1:] :\n",
        "    train_df[i] = train_df.Type_of_Loan.str.contains(i)\n",
        "    train_df[i] = train_df[i].replace({False: 0, True: 1})\n",
        "del train_df[\"Type_of_Loan\"]\n",
        "\n",
        "for i in test_df.Type_of_Loan.value_counts().head(9).index[1:] :\n",
        "    test_df[i] = test_df.Type_of_Loan.str.contains(i)\n",
        "    test_df[i] = test_df[i].replace({False: 0, True: 1})\n",
        "del test_df[\"Type_of_Loan\"]\n",
        "\n",
        "train_df.head(3)"
      ]
    },
    {
      "cell_type": "markdown",
      "metadata": {
        "id": "-_fwyrRYF2zm"
      },
      "source": [
        "**Payment_of_Min_Amount**\n",
        "\n",
        "Категоріальну змінну Payment_of_Min_Amount, що містить значення No, NM, Yes я замінюю на -1, 0 та 1"
      ]
    },
    {
      "cell_type": "code",
      "execution_count": 13,
      "metadata": {
        "id": "i_h7vRGxOMtE"
      },
      "outputs": [
        {
          "name": "stderr",
          "output_type": "stream",
          "text": [
            "D:\\Users\\Евгений Артёменко\\AppData\\Local\\Temp\\ipykernel_16888\\2044972668.py:1: FutureWarning: Downcasting behavior in `replace` is deprecated and will be removed in a future version. To retain the old behavior, explicitly call `result.infer_objects(copy=False)`. To opt-in to the future behavior, set `pd.set_option('future.no_silent_downcasting', True)`\n",
            "  train_df['Payment_of_Min_Amount'] = train_df['Payment_of_Min_Amount'].replace({\"No\": -1, \"NM\": 0, \"Yes\": 1})\n",
            "D:\\Users\\Евгений Артёменко\\AppData\\Local\\Temp\\ipykernel_16888\\2044972668.py:2: FutureWarning: Downcasting behavior in `replace` is deprecated and will be removed in a future version. To retain the old behavior, explicitly call `result.infer_objects(copy=False)`. To opt-in to the future behavior, set `pd.set_option('future.no_silent_downcasting', True)`\n",
            "  test_df['Payment_of_Min_Amount'] = test_df['Payment_of_Min_Amount'].replace({\"No\": -1, \"NM\": 0, \"Yes\": 1})\n"
          ]
        }
      ],
      "source": [
        "train_df['Payment_of_Min_Amount'] = train_df['Payment_of_Min_Amount'].replace({\"No\": -1, \"NM\": 0, \"Yes\": 1})\n",
        "test_df['Payment_of_Min_Amount'] = test_df['Payment_of_Min_Amount'].replace({\"No\": -1, \"NM\": 0, \"Yes\": 1})"
      ]
    },
    {
      "cell_type": "markdown",
      "metadata": {
        "id": "7M2Ke0jSHO7o"
      },
      "source": [
        "**Payment_Behaviour**"
      ]
    },
    {
      "cell_type": "code",
      "execution_count": 14,
      "metadata": {
        "colab": {
          "base_uri": "https://localhost:8080/"
        },
        "id": "P4CCOuMynGzy",
        "outputId": "f49c4283-8c67-4b5e-9a4d-c7bb2e1d249b"
      },
      "outputs": [
        {
          "data": {
            "text/plain": [
              "array([3, 4, 1, 0, 5, 2])"
            ]
          },
          "execution_count": 14,
          "metadata": {},
          "output_type": "execute_result"
        }
      ],
      "source": [
        "label_encoder = LabelEncoder()\n",
        "train_df[\"Payment_Behaviour\"] = label_encoder.fit_transform(train_df[\"Payment_Behaviour\"])\n",
        "test_df[\"Payment_Behaviour\"] = label_encoder.fit_transform(test_df[\"Payment_Behaviour\"])\n",
        "\n",
        "train_df[\"Payment_Behaviour\"].unique()"
      ]
    },
    {
      "cell_type": "markdown",
      "metadata": {
        "id": "Kp9QKSsIIt5u"
      },
      "source": [
        "**Occupation**\n",
        "\n",
        "При кодуванні змінної Occupation я вирішив застосувати загальноприйняті представлення про економічний стан кожної з професій. Тому я розмістив їх в порядку збільшення та замінив відповідним значенням від 1 до 15."
      ]
    },
    {
      "cell_type": "code",
      "execution_count": 15,
      "metadata": {
        "id": "wwtB-z7gufdJ"
      },
      "outputs": [
        {
          "name": "stderr",
          "output_type": "stream",
          "text": [
            "D:\\Users\\Евгений Артёменко\\AppData\\Local\\Temp\\ipykernel_16888\\3022913500.py:19: FutureWarning: Downcasting behavior in `replace` is deprecated and will be removed in a future version. To retain the old behavior, explicitly call `result.infer_objects(copy=False)`. To opt-in to the future behavior, set `pd.set_option('future.no_silent_downcasting', True)`\n",
            "  train_df['Occupation'] = train_df['Occupation'].replace(occupation_mapping)\n",
            "D:\\Users\\Евгений Артёменко\\AppData\\Local\\Temp\\ipykernel_16888\\3022913500.py:20: FutureWarning: Downcasting behavior in `replace` is deprecated and will be removed in a future version. To retain the old behavior, explicitly call `result.infer_objects(copy=False)`. To opt-in to the future behavior, set `pd.set_option('future.no_silent_downcasting', True)`\n",
            "  test_df['Occupation'] = test_df['Occupation'].replace(occupation_mapping)\n"
          ]
        }
      ],
      "source": [
        "occupation_mapping = {\n",
        "    'Mechanic': 1,\n",
        "    'Teacher': 2,\n",
        "    'Writer': 3,\n",
        "    'Journalist': 4,\n",
        "    'Musician': 5,\n",
        "    'Manager': 6,\n",
        "    'Media_Manager': 7,\n",
        "    'Scientist': 8,\n",
        "    'Accountant': 9,\n",
        "    'Entrepreneur': 10,\n",
        "    'Developer': 11,\n",
        "    'Architect': 12,\n",
        "    'Engineer': 13,\n",
        "    'Lawyer': 14,\n",
        "    'Doctor': 15\n",
        "}\n",
        "\n",
        "train_df['Occupation'] = train_df['Occupation'].replace(occupation_mapping)\n",
        "test_df['Occupation'] = test_df['Occupation'].replace(occupation_mapping)"
      ]
    },
    {
      "cell_type": "markdown",
      "metadata": {
        "id": "MeQ-KR-gKsDs"
      },
      "source": [
        "**Credit_Mix**"
      ]
    },
    {
      "cell_type": "code",
      "execution_count": 16,
      "metadata": {
        "id": "GcQhUQ3KufgO"
      },
      "outputs": [],
      "source": [
        "train_df['Credit_Mix'] = train_df['Credit_Mix'].map({\"Bad\": -1, \"Standard\": 0, \"Good\": 1})\n",
        "test_df['Credit_Mix'] = test_df['Credit_Mix'].map({\"Bad\": -1, \"Standard\": 0, \"Good\": 1})"
      ]
    },
    {
      "cell_type": "markdown",
      "metadata": {
        "id": "gromfyZuK-hk"
      },
      "source": [
        "**Credit_Score**"
      ]
    },
    {
      "cell_type": "code",
      "execution_count": 17,
      "metadata": {
        "id": "825e7WD_K-qN"
      },
      "outputs": [],
      "source": [
        "train_df['Credit_Score'] = train_df['Credit_Score'].map({\"Poor\": -1, \"Standard\": 0, \"Good\": 1})"
      ]
    },
    {
      "cell_type": "code",
      "execution_count": 18,
      "metadata": {
        "id": "dirVDbM0KwiA"
      },
      "outputs": [],
      "source": [
        "del train_df['Name']\n",
        "del train_df['SSN']\n",
        "\n",
        "del test_df['Name']\n",
        "del test_df['SSN']"
      ]
    },
    {
      "cell_type": "markdown",
      "metadata": {
        "id": "p_Mr_C42Qb0g"
      },
      "source": [
        "### 2. Data oversampling"
      ]
    },
    {
      "cell_type": "markdown",
      "metadata": {
        "id": "KAjxDqRCM7Az"
      },
      "source": [
        "Перед розбивкою даних на тренувальну та валідаціну вибірки я вирішив переконатися, наскільки явно виражений дисбаланс класів в датасеті. Виявилося, що дисбаланс в датасеті значний, тому я вирішив скористатися методом SMOTE для генерації нових даних, щоб вирівняти пропорцію класів."
      ]
    },
    {
      "cell_type": "code",
      "execution_count": 19,
      "metadata": {
        "id": "Tz4ZjBOaQoi8"
      },
      "outputs": [],
      "source": [
        "# Змінна Credit_Score містила один NaN, тому я видаляю цей запис\n",
        "train_df[\"Credit_Score\"][train_df[\"Credit_Score\"].isna()]\n",
        "train_df = train_df.drop(train_df[pd.isna(train_df['Credit_Score'])].index)"
      ]
    },
    {
      "cell_type": "code",
      "execution_count": 20,
      "metadata": {
        "colab": {
          "base_uri": "https://localhost:8080/"
        },
        "id": "ndrBqr4GnG2U",
        "outputId": "43edfed0-8e16-42af-c671-478a34ed313a"
      },
      "outputs": [
        {
          "name": "stdout",
          "output_type": "stream",
          "text": [
            "Credit_Score\n",
            " 0    0.531737\n",
            "-1    0.289988\n",
            " 1    0.178275\n",
            "Name: proportion, dtype: float64\n",
            "---------------\n",
            "Credit_Score\n",
            " 0    0.333333\n",
            "-1    0.333333\n",
            " 1    0.333333\n",
            "Name: proportion, dtype: float64\n"
          ]
        }
      ],
      "source": [
        "X, y = train_df.drop(\"Credit_Score\",axis=1).values , train_df[\"Credit_Score\"]\n",
        "print(y.value_counts(normalize=True))\n",
        "\n",
        "oversampling = SMOTE(sampling_strategy='auto')\n",
        "X, y = oversampling.fit_resample(X, y)\n",
        "\n",
        "print(\"---------------\")\n",
        "print(y.value_counts(normalize=True))"
      ]
    },
    {
      "cell_type": "markdown",
      "metadata": {
        "id": "KKfmcXZAflUy"
      },
      "source": [
        "### 3. Splitting data"
      ]
    },
    {
      "cell_type": "code",
      "execution_count": 21,
      "metadata": {
        "colab": {
          "base_uri": "https://localhost:8080/"
        },
        "id": "Cuj1cUdIfpPx",
        "outputId": "2920c221-4e7e-495e-8ba3-4f2b3fc9510a"
      },
      "outputs": [
        {
          "name": "stdout",
          "output_type": "stream",
          "text": [
            "(89331, 31) (89331,)\n",
            "(38286, 31) (38286,)\n"
          ]
        }
      ],
      "source": [
        "X_train, X_val, y_train, y_val =  train_test_split(X, y, test_size=0.3, random_state=1)\n",
        "print(X_train.shape, y_train.shape)\n",
        "print(X_val.shape, y_val.shape)"
      ]
    },
    {
      "cell_type": "code",
      "execution_count": 22,
      "metadata": {
        "colab": {
          "base_uri": "https://localhost:8080/"
        },
        "id": "xCzXta1VLw72",
        "outputId": "7ab4fa12-4ea6-48de-ebd2-b031d07010aa"
      },
      "outputs": [
        {
          "data": {
            "text/plain": [
              "numpy.ndarray"
            ]
          },
          "execution_count": 22,
          "metadata": {},
          "output_type": "execute_result"
        }
      ],
      "source": [
        "X_test = test_df.values\n",
        "type(X_test)"
      ]
    },
    {
      "cell_type": "markdown",
      "metadata": {
        "id": "ArhG41A3RS5g"
      },
      "source": [
        "### 4. Normalization"
      ]
    },
    {
      "cell_type": "markdown",
      "metadata": {},
      "source": [
        "Як показав аналіз розподілу даних - більшість змінних мають розподіл відмінний від нормального. Саме тому нам необхідно використовувати нормалізацію для масштабування ознак."
      ]
    },
    {
      "cell_type": "code",
      "execution_count": 23,
      "metadata": {
        "id": "oPlV222WQqdA"
      },
      "outputs": [],
      "source": [
        "mms = MinMaxScaler()\n",
        "\n",
        "X_train = mms.fit_transform(X_train)\n",
        "X_val = mms.fit_transform(X_val)\n",
        "X_test = mms.fit_transform(X_test)"
      ]
    },
    {
      "cell_type": "markdown",
      "metadata": {
        "id": "JNmWbIwfhyvT"
      },
      "source": [
        "# Modeling"
      ]
    },
    {
      "cell_type": "markdown",
      "metadata": {
        "id": "QOBBytTMfQsa"
      },
      "source": [
        "Тепер я проводжу первинні випробування кожної з моделей. Та модель, яка покаже найращий результат буде в подальшому використовуватися для фінальної класифікації.\n",
        "\n",
        "**Метрика**\n",
        "\n",
        "Оскільки надання кредиту людині є відповідальною справою, банк не може собі дозволити часто помилятися, надаючи гроші неплатоспроможним суб'єктам.\n",
        "**Отже задачею моделі є мінімізація False Negative класифікацій при передбаченні низького ретингу**. Тому в якості основної метрики я буду використовувати **recall**."
      ]
    },
    {
      "cell_type": "markdown",
      "metadata": {
        "id": "Pr3qsnj1Pz3Z"
      },
      "source": [
        "### 1. LogisticRegression"
      ]
    },
    {
      "cell_type": "code",
      "execution_count": null,
      "metadata": {
        "colab": {
          "base_uri": "https://localhost:8080/"
        },
        "id": "mYPxtFJ9Ij03",
        "outputId": "c8b4ab3f-221b-4281-c22d-e84120e1b761"
      },
      "outputs": [
        {
          "name": "stdout",
          "output_type": "stream",
          "text": [
            "Результат роботи первинної моделі LogisticRegression:\n",
            "              precision    recall  f1-score   support\n",
            "\n",
            "        -1.0       0.74      0.68      0.71      4955\n",
            "         0.0       0.67      0.58      0.62      4880\n",
            "         1.0       0.70      0.86      0.77      4912\n",
            "\n",
            "    accuracy                           0.71     14747\n",
            "   macro avg       0.70      0.70      0.70     14747\n",
            "weighted avg       0.70      0.71      0.70     14747\n",
            "\n"
          ]
        }
      ],
      "source": [
        "# baseline\n",
        "logistic_model = LogisticRegression(max_iter=500)\n",
        "logistic_model.fit(X_train, y_train)\n",
        "\n",
        "lr_pred = logistic_model.predict(X_val)\n",
        "\n",
        "print(\"Результат роботи первинної моделі LogisticRegression:\")\n",
        "print(classification_report(y_val, lr_pred))"
      ]
    },
    {
      "cell_type": "markdown",
      "metadata": {
        "id": "eewEFru1xwIu"
      },
      "source": [
        "Далі підберемо гіперпараметри, для побудови найточнішої моделі."
      ]
    },
    {
      "cell_type": "code",
      "execution_count": null,
      "metadata": {
        "colab": {
          "base_uri": "https://localhost:8080/",
          "height": 1000
        },
        "id": "pdIMr1FlxxD7",
        "outputId": "aa98bb4c-d38b-40c2-8e21-44ddea1e7ff0"
      },
      "outputs": [
        {
          "name": "stdout",
          "output_type": "stream",
          "text": [
            "Fitting 5 folds for each of 12 candidates, totalling 60 fits\n",
            "[CV 1/5] END C=0.01, penalty=l1, solver=liblinear; accuracy: (test=0.706) f1_micro: (test=0.706) recall_micro: (test=0.706) total time=   3.0s\n",
            "[CV 2/5] END C=0.01, penalty=l1, solver=liblinear; accuracy: (test=0.699) f1_micro: (test=0.699) recall_micro: (test=0.699) total time=   2.2s\n",
            "[CV 3/5] END C=0.01, penalty=l1, solver=liblinear; accuracy: (test=0.693) f1_micro: (test=0.693) recall_micro: (test=0.693) total time=   1.2s\n",
            "[CV 4/5] END C=0.01, penalty=l1, solver=liblinear; accuracy: (test=0.702) f1_micro: (test=0.702) recall_micro: (test=0.702) total time=   1.2s\n",
            "[CV 5/5] END C=0.01, penalty=l1, solver=liblinear; accuracy: (test=0.702) f1_micro: (test=0.702) recall_micro: (test=0.702) total time=   1.3s\n",
            "[CV 1/5] END C=0.01, penalty=l1, solver=saga; accuracy: (test=0.711) f1_micro: (test=0.711) recall_micro: (test=0.711) total time=   0.8s\n",
            "[CV 2/5] END C=0.01, penalty=l1, solver=saga; accuracy: (test=0.709) f1_micro: (test=0.709) recall_micro: (test=0.709) total time=   0.8s\n",
            "[CV 3/5] END C=0.01, penalty=l1, solver=saga; accuracy: (test=0.700) f1_micro: (test=0.700) recall_micro: (test=0.700) total time=   0.9s\n",
            "[CV 4/5] END C=0.01, penalty=l1, solver=saga; accuracy: (test=0.708) f1_micro: (test=0.708) recall_micro: (test=0.708) total time=   0.8s\n",
            "[CV 5/5] END C=0.01, penalty=l1, solver=saga; accuracy: (test=0.706) f1_micro: (test=0.706) recall_micro: (test=0.706) total time=   0.8s\n",
            "[CV 1/5] END C=0.01, penalty=l2, solver=liblinear; accuracy: (test=0.705) f1_micro: (test=0.705) recall_micro: (test=0.705) total time=   0.6s\n",
            "[CV 2/5] END C=0.01, penalty=l2, solver=liblinear; accuracy: (test=0.699) f1_micro: (test=0.699) recall_micro: (test=0.699) total time=   0.6s\n",
            "[CV 3/5] END C=0.01, penalty=l2, solver=liblinear; accuracy: (test=0.696) f1_micro: (test=0.696) recall_micro: (test=0.696) total time=   0.8s\n",
            "[CV 4/5] END C=0.01, penalty=l2, solver=liblinear; accuracy: (test=0.702) f1_micro: (test=0.702) recall_micro: (test=0.702) total time=   0.7s\n",
            "[CV 5/5] END C=0.01, penalty=l2, solver=liblinear; accuracy: (test=0.702) f1_micro: (test=0.702) recall_micro: (test=0.702) total time=   0.7s\n",
            "[CV 1/5] END C=0.01, penalty=l2, solver=saga; accuracy: (test=0.710) f1_micro: (test=0.710) recall_micro: (test=0.710) total time=   0.9s\n",
            "[CV 2/5] END C=0.01, penalty=l2, solver=saga; accuracy: (test=0.708) f1_micro: (test=0.708) recall_micro: (test=0.708) total time=   0.7s\n",
            "[CV 3/5] END C=0.01, penalty=l2, solver=saga; accuracy: (test=0.703) f1_micro: (test=0.703) recall_micro: (test=0.703) total time=   0.7s\n",
            "[CV 4/5] END C=0.01, penalty=l2, solver=saga; accuracy: (test=0.710) f1_micro: (test=0.710) recall_micro: (test=0.710) total time=   0.6s\n",
            "[CV 5/5] END C=0.01, penalty=l2, solver=saga; accuracy: (test=0.707) f1_micro: (test=0.707) recall_micro: (test=0.707) total time=   0.7s\n",
            "[CV 1/5] END C=0.1, penalty=l1, solver=liblinear; accuracy: (test=0.707) f1_micro: (test=0.707) recall_micro: (test=0.707) total time=   5.3s\n",
            "[CV 2/5] END C=0.1, penalty=l1, solver=liblinear; accuracy: (test=0.710) f1_micro: (test=0.710) recall_micro: (test=0.710) total time=   5.9s\n",
            "[CV 3/5] END C=0.1, penalty=l1, solver=liblinear; accuracy: (test=0.698) f1_micro: (test=0.698) recall_micro: (test=0.698) total time=   4.6s\n",
            "[CV 4/5] END C=0.1, penalty=l1, solver=liblinear; accuracy: (test=0.710) f1_micro: (test=0.710) recall_micro: (test=0.710) total time=   4.9s\n",
            "[CV 5/5] END C=0.1, penalty=l1, solver=liblinear; accuracy: (test=0.703) f1_micro: (test=0.703) recall_micro: (test=0.703) total time=   5.5s\n",
            "[CV 1/5] END C=0.1, penalty=l1, solver=saga; accuracy: (test=0.706) f1_micro: (test=0.706) recall_micro: (test=0.706) total time=   0.9s\n",
            "[CV 2/5] END C=0.1, penalty=l1, solver=saga; accuracy: (test=0.704) f1_micro: (test=0.704) recall_micro: (test=0.704) total time=   0.9s\n",
            "[CV 3/5] END C=0.1, penalty=l1, solver=saga; accuracy: (test=0.698) f1_micro: (test=0.698) recall_micro: (test=0.698) total time=   0.9s\n",
            "[CV 4/5] END C=0.1, penalty=l1, solver=saga; accuracy: (test=0.708) f1_micro: (test=0.708) recall_micro: (test=0.708) total time=   0.9s\n",
            "[CV 5/5] END C=0.1, penalty=l1, solver=saga; accuracy: (test=0.702) f1_micro: (test=0.702) recall_micro: (test=0.702) total time=   0.9s\n",
            "[CV 1/5] END C=0.1, penalty=l2, solver=liblinear; accuracy: (test=0.710) f1_micro: (test=0.710) recall_micro: (test=0.710) total time=   1.0s\n",
            "[CV 2/5] END C=0.1, penalty=l2, solver=liblinear; accuracy: (test=0.709) f1_micro: (test=0.709) recall_micro: (test=0.709) total time=   0.9s\n",
            "[CV 3/5] END C=0.1, penalty=l2, solver=liblinear; accuracy: (test=0.699) f1_micro: (test=0.699) recall_micro: (test=0.699) total time=   1.2s\n",
            "[CV 4/5] END C=0.1, penalty=l2, solver=liblinear; accuracy: (test=0.709) f1_micro: (test=0.709) recall_micro: (test=0.709) total time=   1.3s\n",
            "[CV 5/5] END C=0.1, penalty=l2, solver=liblinear; accuracy: (test=0.705) f1_micro: (test=0.705) recall_micro: (test=0.705) total time=   1.2s\n",
            "[CV 1/5] END C=0.1, penalty=l2, solver=saga; accuracy: (test=0.707) f1_micro: (test=0.707) recall_micro: (test=0.707) total time=   0.6s\n",
            "[CV 2/5] END C=0.1, penalty=l2, solver=saga; accuracy: (test=0.704) f1_micro: (test=0.704) recall_micro: (test=0.704) total time=   0.6s\n",
            "[CV 3/5] END C=0.1, penalty=l2, solver=saga; accuracy: (test=0.699) f1_micro: (test=0.699) recall_micro: (test=0.699) total time=   0.6s\n",
            "[CV 4/5] END C=0.1, penalty=l2, solver=saga; accuracy: (test=0.708) f1_micro: (test=0.708) recall_micro: (test=0.708) total time=   0.6s\n",
            "[CV 5/5] END C=0.1, penalty=l2, solver=saga; accuracy: (test=0.702) f1_micro: (test=0.702) recall_micro: (test=0.702) total time=   0.7s\n",
            "[CV 1/5] END C=1, penalty=l1, solver=liblinear; accuracy: (test=0.707) f1_micro: (test=0.707) recall_micro: (test=0.707) total time=   8.2s\n",
            "[CV 2/5] END C=1, penalty=l1, solver=liblinear; accuracy: (test=0.707) f1_micro: (test=0.707) recall_micro: (test=0.707) total time=  11.1s\n",
            "[CV 3/5] END C=1, penalty=l1, solver=liblinear; accuracy: (test=0.698) f1_micro: (test=0.698) recall_micro: (test=0.698) total time=  13.1s\n",
            "[CV 4/5] END C=1, penalty=l1, solver=liblinear; accuracy: (test=0.708) f1_micro: (test=0.708) recall_micro: (test=0.708) total time=   8.6s\n",
            "[CV 5/5] END C=1, penalty=l1, solver=liblinear; accuracy: (test=0.703) f1_micro: (test=0.703) recall_micro: (test=0.703) total time=   9.3s\n"
          ]
        },
        {
          "name": "stderr",
          "output_type": "stream",
          "text": [
            "/usr/local/lib/python3.10/dist-packages/sklearn/linear_model/_sag.py:350: ConvergenceWarning: The max_iter was reached which means the coef_ did not converge\n",
            "  warnings.warn(\n"
          ]
        },
        {
          "name": "stdout",
          "output_type": "stream",
          "text": [
            "[CV 1/5] END C=1, penalty=l1, solver=saga; accuracy: (test=0.705) f1_micro: (test=0.705) recall_micro: (test=0.705) total time=   4.2s\n"
          ]
        },
        {
          "name": "stderr",
          "output_type": "stream",
          "text": [
            "/usr/local/lib/python3.10/dist-packages/sklearn/linear_model/_sag.py:350: ConvergenceWarning: The max_iter was reached which means the coef_ did not converge\n",
            "  warnings.warn(\n"
          ]
        },
        {
          "name": "stdout",
          "output_type": "stream",
          "text": [
            "[CV 2/5] END C=1, penalty=l1, solver=saga; accuracy: (test=0.703) f1_micro: (test=0.703) recall_micro: (test=0.703) total time=   4.8s\n"
          ]
        },
        {
          "name": "stderr",
          "output_type": "stream",
          "text": [
            "/usr/local/lib/python3.10/dist-packages/sklearn/linear_model/_sag.py:350: ConvergenceWarning: The max_iter was reached which means the coef_ did not converge\n",
            "  warnings.warn(\n"
          ]
        },
        {
          "name": "stdout",
          "output_type": "stream",
          "text": [
            "[CV 3/5] END C=1, penalty=l1, solver=saga; accuracy: (test=0.700) f1_micro: (test=0.700) recall_micro: (test=0.700) total time=   4.7s\n"
          ]
        },
        {
          "name": "stderr",
          "output_type": "stream",
          "text": [
            "/usr/local/lib/python3.10/dist-packages/sklearn/linear_model/_sag.py:350: ConvergenceWarning: The max_iter was reached which means the coef_ did not converge\n",
            "  warnings.warn(\n"
          ]
        },
        {
          "name": "stdout",
          "output_type": "stream",
          "text": [
            "[CV 4/5] END C=1, penalty=l1, solver=saga; accuracy: (test=0.707) f1_micro: (test=0.707) recall_micro: (test=0.707) total time=   4.2s\n"
          ]
        },
        {
          "name": "stderr",
          "output_type": "stream",
          "text": [
            "/usr/local/lib/python3.10/dist-packages/sklearn/linear_model/_sag.py:350: ConvergenceWarning: The max_iter was reached which means the coef_ did not converge\n",
            "  warnings.warn(\n"
          ]
        },
        {
          "name": "stdout",
          "output_type": "stream",
          "text": [
            "[CV 5/5] END C=1, penalty=l1, solver=saga; accuracy: (test=0.704) f1_micro: (test=0.704) recall_micro: (test=0.704) total time=   5.4s\n",
            "[CV 1/5] END C=1, penalty=l2, solver=liblinear; accuracy: (test=0.707) f1_micro: (test=0.707) recall_micro: (test=0.707) total time=   1.1s\n",
            "[CV 2/5] END C=1, penalty=l2, solver=liblinear; accuracy: (test=0.707) f1_micro: (test=0.707) recall_micro: (test=0.707) total time=   1.2s\n",
            "[CV 3/5] END C=1, penalty=l2, solver=liblinear; accuracy: (test=0.698) f1_micro: (test=0.698) recall_micro: (test=0.698) total time=   1.4s\n",
            "[CV 4/5] END C=1, penalty=l2, solver=liblinear; accuracy: (test=0.708) f1_micro: (test=0.708) recall_micro: (test=0.708) total time=   1.2s\n",
            "[CV 5/5] END C=1, penalty=l2, solver=liblinear; accuracy: (test=0.703) f1_micro: (test=0.703) recall_micro: (test=0.703) total time=   1.5s\n",
            "[CV 1/5] END C=1, penalty=l2, solver=saga; accuracy: (test=0.706) f1_micro: (test=0.706) recall_micro: (test=0.706) total time=   1.6s\n",
            "[CV 2/5] END C=1, penalty=l2, solver=saga; accuracy: (test=0.703) f1_micro: (test=0.703) recall_micro: (test=0.703) total time=   1.6s\n",
            "[CV 3/5] END C=1, penalty=l2, solver=saga; accuracy: (test=0.700) f1_micro: (test=0.700) recall_micro: (test=0.700) total time=   2.6s\n",
            "[CV 4/5] END C=1, penalty=l2, solver=saga; accuracy: (test=0.707) f1_micro: (test=0.707) recall_micro: (test=0.707) total time=   1.7s\n",
            "[CV 5/5] END C=1, penalty=l2, solver=saga; accuracy: (test=0.703) f1_micro: (test=0.703) recall_micro: (test=0.703) total time=   1.6s\n"
          ]
        },
        {
          "data": {
            "text/html": [
              "<style>#sk-container-id-3 {color: black;background-color: white;}#sk-container-id-3 pre{padding: 0;}#sk-container-id-3 div.sk-toggleable {background-color: white;}#sk-container-id-3 label.sk-toggleable__label {cursor: pointer;display: block;width: 100%;margin-bottom: 0;padding: 0.3em;box-sizing: border-box;text-align: center;}#sk-container-id-3 label.sk-toggleable__label-arrow:before {content: \"▸\";float: left;margin-right: 0.25em;color: #696969;}#sk-container-id-3 label.sk-toggleable__label-arrow:hover:before {color: black;}#sk-container-id-3 div.sk-estimator:hover label.sk-toggleable__label-arrow:before {color: black;}#sk-container-id-3 div.sk-toggleable__content {max-height: 0;max-width: 0;overflow: hidden;text-align: left;background-color: #f0f8ff;}#sk-container-id-3 div.sk-toggleable__content pre {margin: 0.2em;color: black;border-radius: 0.25em;background-color: #f0f8ff;}#sk-container-id-3 input.sk-toggleable__control:checked~div.sk-toggleable__content {max-height: 200px;max-width: 100%;overflow: auto;}#sk-container-id-3 input.sk-toggleable__control:checked~label.sk-toggleable__label-arrow:before {content: \"▾\";}#sk-container-id-3 div.sk-estimator input.sk-toggleable__control:checked~label.sk-toggleable__label {background-color: #d4ebff;}#sk-container-id-3 div.sk-label input.sk-toggleable__control:checked~label.sk-toggleable__label {background-color: #d4ebff;}#sk-container-id-3 input.sk-hidden--visually {border: 0;clip: rect(1px 1px 1px 1px);clip: rect(1px, 1px, 1px, 1px);height: 1px;margin: -1px;overflow: hidden;padding: 0;position: absolute;width: 1px;}#sk-container-id-3 div.sk-estimator {font-family: monospace;background-color: #f0f8ff;border: 1px dotted black;border-radius: 0.25em;box-sizing: border-box;margin-bottom: 0.5em;}#sk-container-id-3 div.sk-estimator:hover {background-color: #d4ebff;}#sk-container-id-3 div.sk-parallel-item::after {content: \"\";width: 100%;border-bottom: 1px solid gray;flex-grow: 1;}#sk-container-id-3 div.sk-label:hover label.sk-toggleable__label {background-color: #d4ebff;}#sk-container-id-3 div.sk-serial::before {content: \"\";position: absolute;border-left: 1px solid gray;box-sizing: border-box;top: 0;bottom: 0;left: 50%;z-index: 0;}#sk-container-id-3 div.sk-serial {display: flex;flex-direction: column;align-items: center;background-color: white;padding-right: 0.2em;padding-left: 0.2em;position: relative;}#sk-container-id-3 div.sk-item {position: relative;z-index: 1;}#sk-container-id-3 div.sk-parallel {display: flex;align-items: stretch;justify-content: center;background-color: white;position: relative;}#sk-container-id-3 div.sk-item::before, #sk-container-id-3 div.sk-parallel-item::before {content: \"\";position: absolute;border-left: 1px solid gray;box-sizing: border-box;top: 0;bottom: 0;left: 50%;z-index: -1;}#sk-container-id-3 div.sk-parallel-item {display: flex;flex-direction: column;z-index: 1;position: relative;background-color: white;}#sk-container-id-3 div.sk-parallel-item:first-child::after {align-self: flex-end;width: 50%;}#sk-container-id-3 div.sk-parallel-item:last-child::after {align-self: flex-start;width: 50%;}#sk-container-id-3 div.sk-parallel-item:only-child::after {width: 0;}#sk-container-id-3 div.sk-dashed-wrapped {border: 1px dashed gray;margin: 0 0.4em 0.5em 0.4em;box-sizing: border-box;padding-bottom: 0.4em;background-color: white;}#sk-container-id-3 div.sk-label label {font-family: monospace;font-weight: bold;display: inline-block;line-height: 1.2em;}#sk-container-id-3 div.sk-label-container {text-align: center;}#sk-container-id-3 div.sk-container {/* jupyter's `normalize.less` sets `[hidden] { display: none; }` but bootstrap.min.css set `[hidden] { display: none !important; }` so we also need the `!important` here to be able to override the default hidden behavior on the sphinx rendered scikit-learn.org. See: https://github.com/scikit-learn/scikit-learn/issues/21755 */display: inline-block !important;position: relative;}#sk-container-id-3 div.sk-text-repr-fallback {display: none;}</style><div id=\"sk-container-id-3\" class=\"sk-top-container\"><div class=\"sk-text-repr-fallback\"><pre>GridSearchCV(cv=5, estimator=LogisticRegression(),\n",
              "             param_grid={&#x27;C&#x27;: [0.01, 0.1, 1], &#x27;penalty&#x27;: [&#x27;l1&#x27;, &#x27;l2&#x27;],\n",
              "                         &#x27;solver&#x27;: [&#x27;liblinear&#x27;, &#x27;saga&#x27;]},\n",
              "             refit=&#x27;recall_micro&#x27;,\n",
              "             scoring=[&#x27;accuracy&#x27;, &#x27;recall_micro&#x27;, &#x27;f1_micro&#x27;], verbose=4)</pre><b>In a Jupyter environment, please rerun this cell to show the HTML representation or trust the notebook. <br />On GitHub, the HTML representation is unable to render, please try loading this page with nbviewer.org.</b></div><div class=\"sk-container\" hidden><div class=\"sk-item sk-dashed-wrapped\"><div class=\"sk-label-container\"><div class=\"sk-label sk-toggleable\"><input class=\"sk-toggleable__control sk-hidden--visually\" id=\"sk-estimator-id-5\" type=\"checkbox\" ><label for=\"sk-estimator-id-5\" class=\"sk-toggleable__label sk-toggleable__label-arrow\">GridSearchCV</label><div class=\"sk-toggleable__content\"><pre>GridSearchCV(cv=5, estimator=LogisticRegression(),\n",
              "             param_grid={&#x27;C&#x27;: [0.01, 0.1, 1], &#x27;penalty&#x27;: [&#x27;l1&#x27;, &#x27;l2&#x27;],\n",
              "                         &#x27;solver&#x27;: [&#x27;liblinear&#x27;, &#x27;saga&#x27;]},\n",
              "             refit=&#x27;recall_micro&#x27;,\n",
              "             scoring=[&#x27;accuracy&#x27;, &#x27;recall_micro&#x27;, &#x27;f1_micro&#x27;], verbose=4)</pre></div></div></div><div class=\"sk-parallel\"><div class=\"sk-parallel-item\"><div class=\"sk-item\"><div class=\"sk-label-container\"><div class=\"sk-label sk-toggleable\"><input class=\"sk-toggleable__control sk-hidden--visually\" id=\"sk-estimator-id-6\" type=\"checkbox\" ><label for=\"sk-estimator-id-6\" class=\"sk-toggleable__label sk-toggleable__label-arrow\">estimator: LogisticRegression</label><div class=\"sk-toggleable__content\"><pre>LogisticRegression()</pre></div></div></div><div class=\"sk-serial\"><div class=\"sk-item\"><div class=\"sk-estimator sk-toggleable\"><input class=\"sk-toggleable__control sk-hidden--visually\" id=\"sk-estimator-id-7\" type=\"checkbox\" ><label for=\"sk-estimator-id-7\" class=\"sk-toggleable__label sk-toggleable__label-arrow\">LogisticRegression</label><div class=\"sk-toggleable__content\"><pre>LogisticRegression()</pre></div></div></div></div></div></div></div></div></div></div>"
            ],
            "text/plain": [
              "GridSearchCV(cv=5, estimator=LogisticRegression(),\n",
              "             param_grid={'C': [0.01, 0.1, 1], 'penalty': ['l1', 'l2'],\n",
              "                         'solver': ['liblinear', 'saga']},\n",
              "             refit='recall_micro',\n",
              "             scoring=['accuracy', 'recall_micro', 'f1_micro'], verbose=4)"
            ]
          },
          "execution_count": 63,
          "metadata": {},
          "output_type": "execute_result"
        }
      ],
      "source": [
        "search_space = {\n",
        "    'penalty': ['l1', 'l2'],\n",
        "    'C': [0.01, 0.1, 1],\n",
        "    'solver': ['liblinear', 'saga']\n",
        "}\n",
        "\n",
        "lr_gs = LogisticRegression()\n",
        "\n",
        "GS = GridSearchCV(\n",
        "    estimator=lr_gs,\n",
        "    param_grid=search_space,\n",
        "    scoring=[\"accuracy\", 'recall_micro', 'f1_micro'],\n",
        "    refit=\"recall_micro\",\n",
        "    cv=5,\n",
        "    verbose=4\n",
        ")\n",
        "\n",
        "GS.fit(X_train, y_train)"
      ]
    },
    {
      "cell_type": "code",
      "execution_count": null,
      "metadata": {
        "colab": {
          "base_uri": "https://localhost:8080/",
          "height": 74
        },
        "id": "YxpJ_5Mhyd9O",
        "outputId": "cb451719-f066-4389-9519-76cbb7d916ba"
      },
      "outputs": [
        {
          "data": {
            "text/html": [
              "<style>#sk-container-id-4 {color: black;background-color: white;}#sk-container-id-4 pre{padding: 0;}#sk-container-id-4 div.sk-toggleable {background-color: white;}#sk-container-id-4 label.sk-toggleable__label {cursor: pointer;display: block;width: 100%;margin-bottom: 0;padding: 0.3em;box-sizing: border-box;text-align: center;}#sk-container-id-4 label.sk-toggleable__label-arrow:before {content: \"▸\";float: left;margin-right: 0.25em;color: #696969;}#sk-container-id-4 label.sk-toggleable__label-arrow:hover:before {color: black;}#sk-container-id-4 div.sk-estimator:hover label.sk-toggleable__label-arrow:before {color: black;}#sk-container-id-4 div.sk-toggleable__content {max-height: 0;max-width: 0;overflow: hidden;text-align: left;background-color: #f0f8ff;}#sk-container-id-4 div.sk-toggleable__content pre {margin: 0.2em;color: black;border-radius: 0.25em;background-color: #f0f8ff;}#sk-container-id-4 input.sk-toggleable__control:checked~div.sk-toggleable__content {max-height: 200px;max-width: 100%;overflow: auto;}#sk-container-id-4 input.sk-toggleable__control:checked~label.sk-toggleable__label-arrow:before {content: \"▾\";}#sk-container-id-4 div.sk-estimator input.sk-toggleable__control:checked~label.sk-toggleable__label {background-color: #d4ebff;}#sk-container-id-4 div.sk-label input.sk-toggleable__control:checked~label.sk-toggleable__label {background-color: #d4ebff;}#sk-container-id-4 input.sk-hidden--visually {border: 0;clip: rect(1px 1px 1px 1px);clip: rect(1px, 1px, 1px, 1px);height: 1px;margin: -1px;overflow: hidden;padding: 0;position: absolute;width: 1px;}#sk-container-id-4 div.sk-estimator {font-family: monospace;background-color: #f0f8ff;border: 1px dotted black;border-radius: 0.25em;box-sizing: border-box;margin-bottom: 0.5em;}#sk-container-id-4 div.sk-estimator:hover {background-color: #d4ebff;}#sk-container-id-4 div.sk-parallel-item::after {content: \"\";width: 100%;border-bottom: 1px solid gray;flex-grow: 1;}#sk-container-id-4 div.sk-label:hover label.sk-toggleable__label {background-color: #d4ebff;}#sk-container-id-4 div.sk-serial::before {content: \"\";position: absolute;border-left: 1px solid gray;box-sizing: border-box;top: 0;bottom: 0;left: 50%;z-index: 0;}#sk-container-id-4 div.sk-serial {display: flex;flex-direction: column;align-items: center;background-color: white;padding-right: 0.2em;padding-left: 0.2em;position: relative;}#sk-container-id-4 div.sk-item {position: relative;z-index: 1;}#sk-container-id-4 div.sk-parallel {display: flex;align-items: stretch;justify-content: center;background-color: white;position: relative;}#sk-container-id-4 div.sk-item::before, #sk-container-id-4 div.sk-parallel-item::before {content: \"\";position: absolute;border-left: 1px solid gray;box-sizing: border-box;top: 0;bottom: 0;left: 50%;z-index: -1;}#sk-container-id-4 div.sk-parallel-item {display: flex;flex-direction: column;z-index: 1;position: relative;background-color: white;}#sk-container-id-4 div.sk-parallel-item:first-child::after {align-self: flex-end;width: 50%;}#sk-container-id-4 div.sk-parallel-item:last-child::after {align-self: flex-start;width: 50%;}#sk-container-id-4 div.sk-parallel-item:only-child::after {width: 0;}#sk-container-id-4 div.sk-dashed-wrapped {border: 1px dashed gray;margin: 0 0.4em 0.5em 0.4em;box-sizing: border-box;padding-bottom: 0.4em;background-color: white;}#sk-container-id-4 div.sk-label label {font-family: monospace;font-weight: bold;display: inline-block;line-height: 1.2em;}#sk-container-id-4 div.sk-label-container {text-align: center;}#sk-container-id-4 div.sk-container {/* jupyter's `normalize.less` sets `[hidden] { display: none; }` but bootstrap.min.css set `[hidden] { display: none !important; }` so we also need the `!important` here to be able to override the default hidden behavior on the sphinx rendered scikit-learn.org. See: https://github.com/scikit-learn/scikit-learn/issues/21755 */display: inline-block !important;position: relative;}#sk-container-id-4 div.sk-text-repr-fallback {display: none;}</style><div id=\"sk-container-id-4\" class=\"sk-top-container\"><div class=\"sk-text-repr-fallback\"><pre>LogisticRegression(C=0.01, solver=&#x27;saga&#x27;)</pre><b>In a Jupyter environment, please rerun this cell to show the HTML representation or trust the notebook. <br />On GitHub, the HTML representation is unable to render, please try loading this page with nbviewer.org.</b></div><div class=\"sk-container\" hidden><div class=\"sk-item\"><div class=\"sk-estimator sk-toggleable\"><input class=\"sk-toggleable__control sk-hidden--visually\" id=\"sk-estimator-id-8\" type=\"checkbox\" checked><label for=\"sk-estimator-id-8\" class=\"sk-toggleable__label sk-toggleable__label-arrow\">LogisticRegression</label><div class=\"sk-toggleable__content\"><pre>LogisticRegression(C=0.01, solver=&#x27;saga&#x27;)</pre></div></div></div></div></div>"
            ],
            "text/plain": [
              "LogisticRegression(C=0.01, solver='saga')"
            ]
          },
          "execution_count": 64,
          "metadata": {},
          "output_type": "execute_result"
        }
      ],
      "source": [
        "GS.best_estimator_"
      ]
    },
    {
      "cell_type": "code",
      "execution_count": null,
      "metadata": {
        "colab": {
          "base_uri": "https://localhost:8080/"
        },
        "id": "6i5CvRc-yh55",
        "outputId": "54b38c85-1823-4c09-dbda-ea4ba37e671a"
      },
      "outputs": [
        {
          "name": "stdout",
          "output_type": "stream",
          "text": [
            "Результат роботи моделі LogisricRegression з найкращою архітектурою:\n",
            "              precision    recall  f1-score   support\n",
            "\n",
            "        -1.0       0.74      0.70      0.72      4955\n",
            "         0.0       0.69      0.57      0.62      4880\n",
            "         1.0       0.69      0.85      0.77      4912\n",
            "\n",
            "    accuracy                           0.71     14747\n",
            "   macro avg       0.71      0.71      0.70     14747\n",
            "weighted avg       0.71      0.71      0.70     14747\n",
            "\n"
          ]
        }
      ],
      "source": [
        "lr_best = LogisticRegression(C=0.01, solver=\"saga\")\n",
        "lr_best.fit(X_train, y_train)\n",
        "\n",
        "lr_pred = lr_best.predict(X_val)\n",
        "\n",
        "print(\"Результат роботи моделі LogisricRegression з найкращою архітектурою:\")\n",
        "print(classification_report(y_val, lr_pred))"
      ]
    },
    {
      "cell_type": "markdown",
      "metadata": {
        "id": "Z0rFbcUl0wib"
      },
      "source": [
        "**Висновок:** Оскільки основною метрикою був обраний recall, ми оцінюємо модель за значенням **0.70** для передбачення низького кредитного рейтингу суб'єкта. На жаль, воно нижче заданого порогу в **0.8**.  Значення accuracy - **0.71**, що також є незадовільним результатом. Отже використовувати логістичну регресію для фінальної класифікації я не буду."
      ]
    },
    {
      "cell_type": "markdown",
      "metadata": {
        "id": "OehOZwwCQIzc"
      },
      "source": [
        "### 2. KNeighborsClassifier"
      ]
    },
    {
      "cell_type": "code",
      "execution_count": null,
      "metadata": {
        "colab": {
          "base_uri": "https://localhost:8080/"
        },
        "id": "iWsOTADIQVTb",
        "outputId": "971d48ce-0e46-40fe-e43b-1b3181a88142"
      },
      "outputs": [
        {
          "name": "stdout",
          "output_type": "stream",
          "text": [
            "Результат роботи моделі KNeighborsClassifier:\n",
            "              precision    recall  f1-score   support\n",
            "\n",
            "        -1.0       0.76      0.83      0.79      4955\n",
            "         0.0       0.76      0.59      0.67      4880\n",
            "         1.0       0.79      0.89      0.83      4912\n",
            "\n",
            "    accuracy                           0.77     14747\n",
            "   macro avg       0.77      0.77      0.77     14747\n",
            "weighted avg       0.77      0.77      0.77     14747\n",
            "\n"
          ]
        }
      ],
      "source": [
        "# baseline\n",
        "knn = KNeighborsClassifier(n_neighbors=5)\n",
        "knn.fit(X_train, y_train)\n",
        "\n",
        "knn_pred = knn.predict(X_val)\n",
        "\n",
        "print(\"Результат роботи моделі KNeighborsClassifier:\")\n",
        "print(classification_report(y_val, knn_pred))"
      ]
    },
    {
      "cell_type": "markdown",
      "metadata": {
        "id": "Y-mz3R15tzMX"
      },
      "source": [
        "Далі підберемо гіперпараметри, для побудови найточнішої моделі."
      ]
    },
    {
      "cell_type": "code",
      "execution_count": null,
      "metadata": {
        "id": "1B83I0p4ijp2"
      },
      "outputs": [],
      "source": [
        "search_space = {\n",
        "    \"n_neighbors\": [3, 6, 9],\n",
        "    'weights': ['uniform', 'distance'],\n",
        "    'metric': ['euclidean', 'manhattan']\n",
        "}\n",
        "\n",
        "knn_gs = KNeighborsClassifier()\n",
        "\n",
        "GS = GridSearchCV(\n",
        "    estimator=knn_gs,\n",
        "    param_grid=search_space,\n",
        "    scoring=[\"accuracy\", 'recall_micro', 'f1_micro'],\n",
        "    refit=\"recall_micro\",\n",
        "    cv=5,\n",
        "    verbose=4\n",
        ")"
      ]
    },
    {
      "cell_type": "code",
      "execution_count": null,
      "metadata": {
        "colab": {
          "base_uri": "https://localhost:8080/",
          "height": 1000
        },
        "id": "SMR86WDrijv0",
        "outputId": "0fde1d8d-8b4a-4e4e-a7de-8ef39c133f0a"
      },
      "outputs": [
        {
          "name": "stdout",
          "output_type": "stream",
          "text": [
            "Fitting 5 folds for each of 12 candidates, totalling 60 fits\n",
            "[CV 1/5] END metric=euclidean, n_neighbors=3, weights=uniform; accuracy: (test=0.778) f1_micro: (test=0.778) recall_micro: (test=0.778) total time=   2.6s\n",
            "[CV 2/5] END metric=euclidean, n_neighbors=3, weights=uniform; accuracy: (test=0.771) f1_micro: (test=0.771) recall_micro: (test=0.771) total time=   2.7s\n",
            "[CV 3/5] END metric=euclidean, n_neighbors=3, weights=uniform; accuracy: (test=0.777) f1_micro: (test=0.777) recall_micro: (test=0.777) total time=   3.7s\n",
            "[CV 4/5] END metric=euclidean, n_neighbors=3, weights=uniform; accuracy: (test=0.781) f1_micro: (test=0.781) recall_micro: (test=0.781) total time=   2.2s\n",
            "[CV 5/5] END metric=euclidean, n_neighbors=3, weights=uniform; accuracy: (test=0.773) f1_micro: (test=0.773) recall_micro: (test=0.773) total time=   1.5s\n",
            "[CV 1/5] END metric=euclidean, n_neighbors=3, weights=distance; accuracy: (test=0.802) f1_micro: (test=0.802) recall_micro: (test=0.802) total time=   1.2s\n",
            "[CV 2/5] END metric=euclidean, n_neighbors=3, weights=distance; accuracy: (test=0.798) f1_micro: (test=0.798) recall_micro: (test=0.798) total time=   1.2s\n",
            "[CV 3/5] END metric=euclidean, n_neighbors=3, weights=distance; accuracy: (test=0.804) f1_micro: (test=0.804) recall_micro: (test=0.804) total time=   1.2s\n",
            "[CV 4/5] END metric=euclidean, n_neighbors=3, weights=distance; accuracy: (test=0.804) f1_micro: (test=0.804) recall_micro: (test=0.804) total time=   1.2s\n",
            "[CV 5/5] END metric=euclidean, n_neighbors=3, weights=distance; accuracy: (test=0.798) f1_micro: (test=0.798) recall_micro: (test=0.798) total time=   1.1s\n",
            "[CV 1/5] END metric=euclidean, n_neighbors=6, weights=uniform; accuracy: (test=0.742) f1_micro: (test=0.742) recall_micro: (test=0.742) total time=   2.3s\n",
            "[CV 2/5] END metric=euclidean, n_neighbors=6, weights=uniform; accuracy: (test=0.746) f1_micro: (test=0.746) recall_micro: (test=0.746) total time=   2.1s\n",
            "[CV 3/5] END metric=euclidean, n_neighbors=6, weights=uniform; accuracy: (test=0.745) f1_micro: (test=0.745) recall_micro: (test=0.745) total time=   1.4s\n",
            "[CV 4/5] END metric=euclidean, n_neighbors=6, weights=uniform; accuracy: (test=0.750) f1_micro: (test=0.750) recall_micro: (test=0.750) total time=   1.5s\n",
            "[CV 5/5] END metric=euclidean, n_neighbors=6, weights=uniform; accuracy: (test=0.747) f1_micro: (test=0.747) recall_micro: (test=0.747) total time=   1.5s\n",
            "[CV 1/5] END metric=euclidean, n_neighbors=6, weights=distance; accuracy: (test=0.788) f1_micro: (test=0.788) recall_micro: (test=0.788) total time=   1.2s\n",
            "[CV 2/5] END metric=euclidean, n_neighbors=6, weights=distance; accuracy: (test=0.791) f1_micro: (test=0.791) recall_micro: (test=0.791) total time=   1.1s\n",
            "[CV 3/5] END metric=euclidean, n_neighbors=6, weights=distance; accuracy: (test=0.794) f1_micro: (test=0.794) recall_micro: (test=0.794) total time=   1.1s\n",
            "[CV 4/5] END metric=euclidean, n_neighbors=6, weights=distance; accuracy: (test=0.797) f1_micro: (test=0.797) recall_micro: (test=0.797) total time=   1.2s\n",
            "[CV 5/5] END metric=euclidean, n_neighbors=6, weights=distance; accuracy: (test=0.792) f1_micro: (test=0.792) recall_micro: (test=0.792) total time=   1.6s\n",
            "[CV 1/5] END metric=euclidean, n_neighbors=9, weights=uniform; accuracy: (test=0.736) f1_micro: (test=0.736) recall_micro: (test=0.736) total time=   2.5s\n",
            "[CV 2/5] END metric=euclidean, n_neighbors=9, weights=uniform; accuracy: (test=0.733) f1_micro: (test=0.733) recall_micro: (test=0.733) total time=   1.5s\n",
            "[CV 3/5] END metric=euclidean, n_neighbors=9, weights=uniform; accuracy: (test=0.732) f1_micro: (test=0.732) recall_micro: (test=0.732) total time=   1.5s\n",
            "[CV 4/5] END metric=euclidean, n_neighbors=9, weights=uniform; accuracy: (test=0.737) f1_micro: (test=0.737) recall_micro: (test=0.737) total time=   1.6s\n",
            "[CV 5/5] END metric=euclidean, n_neighbors=9, weights=uniform; accuracy: (test=0.729) f1_micro: (test=0.729) recall_micro: (test=0.729) total time=   1.5s\n",
            "[CV 1/5] END metric=euclidean, n_neighbors=9, weights=distance; accuracy: (test=0.777) f1_micro: (test=0.777) recall_micro: (test=0.777) total time=   1.2s\n",
            "[CV 2/5] END metric=euclidean, n_neighbors=9, weights=distance; accuracy: (test=0.776) f1_micro: (test=0.776) recall_micro: (test=0.776) total time=   1.2s\n",
            "[CV 3/5] END metric=euclidean, n_neighbors=9, weights=distance; accuracy: (test=0.777) f1_micro: (test=0.777) recall_micro: (test=0.777) total time=   1.2s\n",
            "[CV 4/5] END metric=euclidean, n_neighbors=9, weights=distance; accuracy: (test=0.784) f1_micro: (test=0.784) recall_micro: (test=0.784) total time=   1.7s\n",
            "[CV 5/5] END metric=euclidean, n_neighbors=9, weights=distance; accuracy: (test=0.778) f1_micro: (test=0.778) recall_micro: (test=0.778) total time=   2.0s\n",
            "[CV 1/5] END metric=manhattan, n_neighbors=3, weights=uniform; accuracy: (test=0.806) f1_micro: (test=0.806) recall_micro: (test=0.806) total time=   8.3s\n",
            "[CV 2/5] END metric=manhattan, n_neighbors=3, weights=uniform; accuracy: (test=0.802) f1_micro: (test=0.802) recall_micro: (test=0.802) total time=   9.4s\n",
            "[CV 3/5] END metric=manhattan, n_neighbors=3, weights=uniform; accuracy: (test=0.804) f1_micro: (test=0.804) recall_micro: (test=0.804) total time=   8.9s\n",
            "[CV 4/5] END metric=manhattan, n_neighbors=3, weights=uniform; accuracy: (test=0.803) f1_micro: (test=0.803) recall_micro: (test=0.803) total time=   8.5s\n",
            "[CV 5/5] END metric=manhattan, n_neighbors=3, weights=uniform; accuracy: (test=0.799) f1_micro: (test=0.799) recall_micro: (test=0.799) total time=   9.4s\n",
            "[CV 1/5] END metric=manhattan, n_neighbors=3, weights=distance; accuracy: (test=0.831) f1_micro: (test=0.831) recall_micro: (test=0.831) total time=   8.2s\n",
            "[CV 2/5] END metric=manhattan, n_neighbors=3, weights=distance; accuracy: (test=0.832) f1_micro: (test=0.832) recall_micro: (test=0.832) total time=   8.6s\n",
            "[CV 3/5] END metric=manhattan, n_neighbors=3, weights=distance; accuracy: (test=0.835) f1_micro: (test=0.835) recall_micro: (test=0.835) total time=   9.0s\n",
            "[CV 4/5] END metric=manhattan, n_neighbors=3, weights=distance; accuracy: (test=0.833) f1_micro: (test=0.833) recall_micro: (test=0.833) total time=   7.8s\n",
            "[CV 5/5] END metric=manhattan, n_neighbors=3, weights=distance; accuracy: (test=0.830) f1_micro: (test=0.830) recall_micro: (test=0.830) total time=   9.0s\n",
            "[CV 1/5] END metric=manhattan, n_neighbors=6, weights=uniform; accuracy: (test=0.781) f1_micro: (test=0.781) recall_micro: (test=0.781) total time=   9.4s\n",
            "[CV 2/5] END metric=manhattan, n_neighbors=6, weights=uniform; accuracy: (test=0.780) f1_micro: (test=0.780) recall_micro: (test=0.780) total time=   8.2s\n",
            "[CV 3/5] END metric=manhattan, n_neighbors=6, weights=uniform; accuracy: (test=0.778) f1_micro: (test=0.778) recall_micro: (test=0.778) total time=   9.4s\n",
            "[CV 4/5] END metric=manhattan, n_neighbors=6, weights=uniform; accuracy: (test=0.784) f1_micro: (test=0.784) recall_micro: (test=0.784) total time=   9.3s\n",
            "[CV 5/5] END metric=manhattan, n_neighbors=6, weights=uniform; accuracy: (test=0.777) f1_micro: (test=0.777) recall_micro: (test=0.777) total time=   8.2s\n",
            "[CV 1/5] END metric=manhattan, n_neighbors=6, weights=distance; accuracy: (test=0.827) f1_micro: (test=0.827) recall_micro: (test=0.827) total time=   9.1s\n",
            "[CV 2/5] END metric=manhattan, n_neighbors=6, weights=distance; accuracy: (test=0.826) f1_micro: (test=0.826) recall_micro: (test=0.826) total time=   8.8s\n",
            "[CV 3/5] END metric=manhattan, n_neighbors=6, weights=distance; accuracy: (test=0.829) f1_micro: (test=0.829) recall_micro: (test=0.829) total time=   8.1s\n",
            "[CV 4/5] END metric=manhattan, n_neighbors=6, weights=distance; accuracy: (test=0.831) f1_micro: (test=0.831) recall_micro: (test=0.831) total time=   9.0s\n",
            "[CV 5/5] END metric=manhattan, n_neighbors=6, weights=distance; accuracy: (test=0.824) f1_micro: (test=0.824) recall_micro: (test=0.824) total time=   7.9s\n",
            "[CV 1/5] END metric=manhattan, n_neighbors=9, weights=uniform; accuracy: (test=0.764) f1_micro: (test=0.764) recall_micro: (test=0.764) total time=   9.2s\n",
            "[CV 2/5] END metric=manhattan, n_neighbors=9, weights=uniform; accuracy: (test=0.766) f1_micro: (test=0.766) recall_micro: (test=0.766) total time=   9.3s\n",
            "[CV 3/5] END metric=manhattan, n_neighbors=9, weights=uniform; accuracy: (test=0.761) f1_micro: (test=0.761) recall_micro: (test=0.761) total time=   8.1s\n",
            "[CV 4/5] END metric=manhattan, n_neighbors=9, weights=uniform; accuracy: (test=0.771) f1_micro: (test=0.771) recall_micro: (test=0.771) total time=   9.4s\n",
            "[CV 5/5] END metric=manhattan, n_neighbors=9, weights=uniform; accuracy: (test=0.762) f1_micro: (test=0.762) recall_micro: (test=0.762) total time=   9.3s\n",
            "[CV 1/5] END metric=manhattan, n_neighbors=9, weights=distance; accuracy: (test=0.814) f1_micro: (test=0.814) recall_micro: (test=0.814) total time=   7.8s\n",
            "[CV 2/5] END metric=manhattan, n_neighbors=9, weights=distance; accuracy: (test=0.820) f1_micro: (test=0.820) recall_micro: (test=0.820) total time=   9.1s\n",
            "[CV 3/5] END metric=manhattan, n_neighbors=9, weights=distance; accuracy: (test=0.822) f1_micro: (test=0.822) recall_micro: (test=0.822) total time=   9.1s\n",
            "[CV 4/5] END metric=manhattan, n_neighbors=9, weights=distance; accuracy: (test=0.825) f1_micro: (test=0.825) recall_micro: (test=0.825) total time=   7.8s\n",
            "[CV 5/5] END metric=manhattan, n_neighbors=9, weights=distance; accuracy: (test=0.816) f1_micro: (test=0.816) recall_micro: (test=0.816) total time=   9.1s\n"
          ]
        },
        {
          "data": {
            "text/html": [
              "<style>#sk-container-id-1 {color: black;background-color: white;}#sk-container-id-1 pre{padding: 0;}#sk-container-id-1 div.sk-toggleable {background-color: white;}#sk-container-id-1 label.sk-toggleable__label {cursor: pointer;display: block;width: 100%;margin-bottom: 0;padding: 0.3em;box-sizing: border-box;text-align: center;}#sk-container-id-1 label.sk-toggleable__label-arrow:before {content: \"▸\";float: left;margin-right: 0.25em;color: #696969;}#sk-container-id-1 label.sk-toggleable__label-arrow:hover:before {color: black;}#sk-container-id-1 div.sk-estimator:hover label.sk-toggleable__label-arrow:before {color: black;}#sk-container-id-1 div.sk-toggleable__content {max-height: 0;max-width: 0;overflow: hidden;text-align: left;background-color: #f0f8ff;}#sk-container-id-1 div.sk-toggleable__content pre {margin: 0.2em;color: black;border-radius: 0.25em;background-color: #f0f8ff;}#sk-container-id-1 input.sk-toggleable__control:checked~div.sk-toggleable__content {max-height: 200px;max-width: 100%;overflow: auto;}#sk-container-id-1 input.sk-toggleable__control:checked~label.sk-toggleable__label-arrow:before {content: \"▾\";}#sk-container-id-1 div.sk-estimator input.sk-toggleable__control:checked~label.sk-toggleable__label {background-color: #d4ebff;}#sk-container-id-1 div.sk-label input.sk-toggleable__control:checked~label.sk-toggleable__label {background-color: #d4ebff;}#sk-container-id-1 input.sk-hidden--visually {border: 0;clip: rect(1px 1px 1px 1px);clip: rect(1px, 1px, 1px, 1px);height: 1px;margin: -1px;overflow: hidden;padding: 0;position: absolute;width: 1px;}#sk-container-id-1 div.sk-estimator {font-family: monospace;background-color: #f0f8ff;border: 1px dotted black;border-radius: 0.25em;box-sizing: border-box;margin-bottom: 0.5em;}#sk-container-id-1 div.sk-estimator:hover {background-color: #d4ebff;}#sk-container-id-1 div.sk-parallel-item::after {content: \"\";width: 100%;border-bottom: 1px solid gray;flex-grow: 1;}#sk-container-id-1 div.sk-label:hover label.sk-toggleable__label {background-color: #d4ebff;}#sk-container-id-1 div.sk-serial::before {content: \"\";position: absolute;border-left: 1px solid gray;box-sizing: border-box;top: 0;bottom: 0;left: 50%;z-index: 0;}#sk-container-id-1 div.sk-serial {display: flex;flex-direction: column;align-items: center;background-color: white;padding-right: 0.2em;padding-left: 0.2em;position: relative;}#sk-container-id-1 div.sk-item {position: relative;z-index: 1;}#sk-container-id-1 div.sk-parallel {display: flex;align-items: stretch;justify-content: center;background-color: white;position: relative;}#sk-container-id-1 div.sk-item::before, #sk-container-id-1 div.sk-parallel-item::before {content: \"\";position: absolute;border-left: 1px solid gray;box-sizing: border-box;top: 0;bottom: 0;left: 50%;z-index: -1;}#sk-container-id-1 div.sk-parallel-item {display: flex;flex-direction: column;z-index: 1;position: relative;background-color: white;}#sk-container-id-1 div.sk-parallel-item:first-child::after {align-self: flex-end;width: 50%;}#sk-container-id-1 div.sk-parallel-item:last-child::after {align-self: flex-start;width: 50%;}#sk-container-id-1 div.sk-parallel-item:only-child::after {width: 0;}#sk-container-id-1 div.sk-dashed-wrapped {border: 1px dashed gray;margin: 0 0.4em 0.5em 0.4em;box-sizing: border-box;padding-bottom: 0.4em;background-color: white;}#sk-container-id-1 div.sk-label label {font-family: monospace;font-weight: bold;display: inline-block;line-height: 1.2em;}#sk-container-id-1 div.sk-label-container {text-align: center;}#sk-container-id-1 div.sk-container {/* jupyter's `normalize.less` sets `[hidden] { display: none; }` but bootstrap.min.css set `[hidden] { display: none !important; }` so we also need the `!important` here to be able to override the default hidden behavior on the sphinx rendered scikit-learn.org. See: https://github.com/scikit-learn/scikit-learn/issues/21755 */display: inline-block !important;position: relative;}#sk-container-id-1 div.sk-text-repr-fallback {display: none;}</style><div id=\"sk-container-id-1\" class=\"sk-top-container\"><div class=\"sk-text-repr-fallback\"><pre>GridSearchCV(cv=5, estimator=KNeighborsClassifier(),\n",
              "             param_grid={&#x27;metric&#x27;: [&#x27;euclidean&#x27;, &#x27;manhattan&#x27;],\n",
              "                         &#x27;n_neighbors&#x27;: [3, 6, 9],\n",
              "                         &#x27;weights&#x27;: [&#x27;uniform&#x27;, &#x27;distance&#x27;]},\n",
              "             refit=&#x27;recall_micro&#x27;,\n",
              "             scoring=[&#x27;accuracy&#x27;, &#x27;recall_micro&#x27;, &#x27;f1_micro&#x27;], verbose=4)</pre><b>In a Jupyter environment, please rerun this cell to show the HTML representation or trust the notebook. <br />On GitHub, the HTML representation is unable to render, please try loading this page with nbviewer.org.</b></div><div class=\"sk-container\" hidden><div class=\"sk-item sk-dashed-wrapped\"><div class=\"sk-label-container\"><div class=\"sk-label sk-toggleable\"><input class=\"sk-toggleable__control sk-hidden--visually\" id=\"sk-estimator-id-1\" type=\"checkbox\" ><label for=\"sk-estimator-id-1\" class=\"sk-toggleable__label sk-toggleable__label-arrow\">GridSearchCV</label><div class=\"sk-toggleable__content\"><pre>GridSearchCV(cv=5, estimator=KNeighborsClassifier(),\n",
              "             param_grid={&#x27;metric&#x27;: [&#x27;euclidean&#x27;, &#x27;manhattan&#x27;],\n",
              "                         &#x27;n_neighbors&#x27;: [3, 6, 9],\n",
              "                         &#x27;weights&#x27;: [&#x27;uniform&#x27;, &#x27;distance&#x27;]},\n",
              "             refit=&#x27;recall_micro&#x27;,\n",
              "             scoring=[&#x27;accuracy&#x27;, &#x27;recall_micro&#x27;, &#x27;f1_micro&#x27;], verbose=4)</pre></div></div></div><div class=\"sk-parallel\"><div class=\"sk-parallel-item\"><div class=\"sk-item\"><div class=\"sk-label-container\"><div class=\"sk-label sk-toggleable\"><input class=\"sk-toggleable__control sk-hidden--visually\" id=\"sk-estimator-id-2\" type=\"checkbox\" ><label for=\"sk-estimator-id-2\" class=\"sk-toggleable__label sk-toggleable__label-arrow\">estimator: KNeighborsClassifier</label><div class=\"sk-toggleable__content\"><pre>KNeighborsClassifier()</pre></div></div></div><div class=\"sk-serial\"><div class=\"sk-item\"><div class=\"sk-estimator sk-toggleable\"><input class=\"sk-toggleable__control sk-hidden--visually\" id=\"sk-estimator-id-3\" type=\"checkbox\" ><label for=\"sk-estimator-id-3\" class=\"sk-toggleable__label sk-toggleable__label-arrow\">KNeighborsClassifier</label><div class=\"sk-toggleable__content\"><pre>KNeighborsClassifier()</pre></div></div></div></div></div></div></div></div></div></div>"
            ],
            "text/plain": [
              "GridSearchCV(cv=5, estimator=KNeighborsClassifier(),\n",
              "             param_grid={'metric': ['euclidean', 'manhattan'],\n",
              "                         'n_neighbors': [3, 6, 9],\n",
              "                         'weights': ['uniform', 'distance']},\n",
              "             refit='recall_micro',\n",
              "             scoring=['accuracy', 'recall_micro', 'f1_micro'], verbose=4)"
            ]
          },
          "execution_count": 51,
          "metadata": {},
          "output_type": "execute_result"
        }
      ],
      "source": [
        "GS.fit(X_train, y_train)"
      ]
    },
    {
      "cell_type": "code",
      "execution_count": null,
      "metadata": {
        "colab": {
          "base_uri": "https://localhost:8080/",
          "height": 74
        },
        "id": "bs15buL-sV7T",
        "outputId": "ba93098c-1e89-493d-fa41-78e9bdc22afe"
      },
      "outputs": [
        {
          "data": {
            "text/html": [
              "<style>#sk-container-id-2 {color: black;background-color: white;}#sk-container-id-2 pre{padding: 0;}#sk-container-id-2 div.sk-toggleable {background-color: white;}#sk-container-id-2 label.sk-toggleable__label {cursor: pointer;display: block;width: 100%;margin-bottom: 0;padding: 0.3em;box-sizing: border-box;text-align: center;}#sk-container-id-2 label.sk-toggleable__label-arrow:before {content: \"▸\";float: left;margin-right: 0.25em;color: #696969;}#sk-container-id-2 label.sk-toggleable__label-arrow:hover:before {color: black;}#sk-container-id-2 div.sk-estimator:hover label.sk-toggleable__label-arrow:before {color: black;}#sk-container-id-2 div.sk-toggleable__content {max-height: 0;max-width: 0;overflow: hidden;text-align: left;background-color: #f0f8ff;}#sk-container-id-2 div.sk-toggleable__content pre {margin: 0.2em;color: black;border-radius: 0.25em;background-color: #f0f8ff;}#sk-container-id-2 input.sk-toggleable__control:checked~div.sk-toggleable__content {max-height: 200px;max-width: 100%;overflow: auto;}#sk-container-id-2 input.sk-toggleable__control:checked~label.sk-toggleable__label-arrow:before {content: \"▾\";}#sk-container-id-2 div.sk-estimator input.sk-toggleable__control:checked~label.sk-toggleable__label {background-color: #d4ebff;}#sk-container-id-2 div.sk-label input.sk-toggleable__control:checked~label.sk-toggleable__label {background-color: #d4ebff;}#sk-container-id-2 input.sk-hidden--visually {border: 0;clip: rect(1px 1px 1px 1px);clip: rect(1px, 1px, 1px, 1px);height: 1px;margin: -1px;overflow: hidden;padding: 0;position: absolute;width: 1px;}#sk-container-id-2 div.sk-estimator {font-family: monospace;background-color: #f0f8ff;border: 1px dotted black;border-radius: 0.25em;box-sizing: border-box;margin-bottom: 0.5em;}#sk-container-id-2 div.sk-estimator:hover {background-color: #d4ebff;}#sk-container-id-2 div.sk-parallel-item::after {content: \"\";width: 100%;border-bottom: 1px solid gray;flex-grow: 1;}#sk-container-id-2 div.sk-label:hover label.sk-toggleable__label {background-color: #d4ebff;}#sk-container-id-2 div.sk-serial::before {content: \"\";position: absolute;border-left: 1px solid gray;box-sizing: border-box;top: 0;bottom: 0;left: 50%;z-index: 0;}#sk-container-id-2 div.sk-serial {display: flex;flex-direction: column;align-items: center;background-color: white;padding-right: 0.2em;padding-left: 0.2em;position: relative;}#sk-container-id-2 div.sk-item {position: relative;z-index: 1;}#sk-container-id-2 div.sk-parallel {display: flex;align-items: stretch;justify-content: center;background-color: white;position: relative;}#sk-container-id-2 div.sk-item::before, #sk-container-id-2 div.sk-parallel-item::before {content: \"\";position: absolute;border-left: 1px solid gray;box-sizing: border-box;top: 0;bottom: 0;left: 50%;z-index: -1;}#sk-container-id-2 div.sk-parallel-item {display: flex;flex-direction: column;z-index: 1;position: relative;background-color: white;}#sk-container-id-2 div.sk-parallel-item:first-child::after {align-self: flex-end;width: 50%;}#sk-container-id-2 div.sk-parallel-item:last-child::after {align-self: flex-start;width: 50%;}#sk-container-id-2 div.sk-parallel-item:only-child::after {width: 0;}#sk-container-id-2 div.sk-dashed-wrapped {border: 1px dashed gray;margin: 0 0.4em 0.5em 0.4em;box-sizing: border-box;padding-bottom: 0.4em;background-color: white;}#sk-container-id-2 div.sk-label label {font-family: monospace;font-weight: bold;display: inline-block;line-height: 1.2em;}#sk-container-id-2 div.sk-label-container {text-align: center;}#sk-container-id-2 div.sk-container {/* jupyter's `normalize.less` sets `[hidden] { display: none; }` but bootstrap.min.css set `[hidden] { display: none !important; }` so we also need the `!important` here to be able to override the default hidden behavior on the sphinx rendered scikit-learn.org. See: https://github.com/scikit-learn/scikit-learn/issues/21755 */display: inline-block !important;position: relative;}#sk-container-id-2 div.sk-text-repr-fallback {display: none;}</style><div id=\"sk-container-id-2\" class=\"sk-top-container\"><div class=\"sk-text-repr-fallback\"><pre>KNeighborsClassifier(metric=&#x27;manhattan&#x27;, n_neighbors=3, weights=&#x27;distance&#x27;)</pre><b>In a Jupyter environment, please rerun this cell to show the HTML representation or trust the notebook. <br />On GitHub, the HTML representation is unable to render, please try loading this page with nbviewer.org.</b></div><div class=\"sk-container\" hidden><div class=\"sk-item\"><div class=\"sk-estimator sk-toggleable\"><input class=\"sk-toggleable__control sk-hidden--visually\" id=\"sk-estimator-id-4\" type=\"checkbox\" checked><label for=\"sk-estimator-id-4\" class=\"sk-toggleable__label sk-toggleable__label-arrow\">KNeighborsClassifier</label><div class=\"sk-toggleable__content\"><pre>KNeighborsClassifier(metric=&#x27;manhattan&#x27;, n_neighbors=3, weights=&#x27;distance&#x27;)</pre></div></div></div></div></div>"
            ],
            "text/plain": [
              "KNeighborsClassifier(metric='manhattan', n_neighbors=3, weights='distance')"
            ]
          },
          "execution_count": 53,
          "metadata": {},
          "output_type": "execute_result"
        }
      ],
      "source": [
        "GS.best_estimator_"
      ]
    },
    {
      "cell_type": "code",
      "execution_count": null,
      "metadata": {
        "colab": {
          "base_uri": "https://localhost:8080/"
        },
        "id": "Xwo0IqHDtADK",
        "outputId": "e4fcbab4-6cdf-498d-e280-84fd24fdf5f8"
      },
      "outputs": [
        {
          "name": "stdout",
          "output_type": "stream",
          "text": [
            "Результат роботи моделі KNeighborsClassifier з найкращою архітектурою:\n",
            "              precision    recall  f1-score   support\n",
            "\n",
            "        -1.0       0.84      0.88      0.86      4955\n",
            "         0.0       0.83      0.72      0.77      4880\n",
            "         1.0       0.86      0.94      0.90      4912\n",
            "\n",
            "    accuracy                           0.85     14747\n",
            "   macro avg       0.84      0.85      0.84     14747\n",
            "weighted avg       0.84      0.85      0.84     14747\n",
            "\n"
          ]
        }
      ],
      "source": [
        "knn_best = KNeighborsClassifier(metric='manhattan', n_neighbors=3, weights='distance')\n",
        "knn_best.fit(X_train, y_train)\n",
        "\n",
        "knn_pred = knn_best.predict(X_val)\n",
        "\n",
        "print(\"Результат роботи моделі KNeighborsClassifier з найкращою архітектурою:\")\n",
        "print(classification_report(y_val, knn_pred))"
      ]
    },
    {
      "cell_type": "markdown",
      "metadata": {
        "id": "ZQdN9zbvuX_v"
      },
      "source": [
        "**Висновок:**\n",
        "Оскільки основною метрикою був обраний recall, можна вважати, що дана конфігурація моделі демонструє найкращий результат - **0.88** для передбачення низького кредитного рейтингу суб'єкта."
      ]
    },
    {
      "cell_type": "markdown",
      "metadata": {
        "id": "47pj0LwvSmdc"
      },
      "source": [
        "### 3. DecisionTreeClassifier"
      ]
    },
    {
      "cell_type": "code",
      "execution_count": null,
      "metadata": {
        "colab": {
          "base_uri": "https://localhost:8080/"
        },
        "id": "F2tZJNCWIj6S",
        "outputId": "de2f8efa-463a-48d1-fcb4-4ffb3fe1edcb"
      },
      "outputs": [
        {
          "name": "stdout",
          "output_type": "stream",
          "text": [
            "Результат роботи первинної моделі DecisionTreeClassifier:\n",
            "              precision    recall  f1-score   support\n",
            "\n",
            "        -1.0       0.75      0.74      0.74      4955\n",
            "         0.0       0.68      0.68      0.68      4880\n",
            "         1.0       0.79      0.80      0.79      4912\n",
            "\n",
            "    accuracy                           0.74     14747\n",
            "   macro avg       0.74      0.74      0.74     14747\n",
            "weighted avg       0.74      0.74      0.74     14747\n",
            "\n"
          ]
        }
      ],
      "source": [
        "# baseline\n",
        "dtree = DecisionTreeClassifier()\n",
        "dtree.fit(X_train, y_train)\n",
        "\n",
        "dtree_pred = dtree.predict(X_val)\n",
        "\n",
        "print(\"Результат роботи первинної моделі DecisionTreeClassifier:\")\n",
        "print(classification_report(y_val, dtree_pred))"
      ]
    },
    {
      "cell_type": "markdown",
      "metadata": {
        "id": "BNS7Keea2fzl"
      },
      "source": [
        "Перш за все я фіксую базові гіперпараметри первинної моделі, щоб мінімізувати час дослідження за допомогою Grid Search."
      ]
    },
    {
      "cell_type": "code",
      "execution_count": null,
      "metadata": {
        "colab": {
          "base_uri": "https://localhost:8080/"
        },
        "id": "_qUhby3m2TPR",
        "outputId": "d3482f91-8f47-4cb8-838b-192054a2890f"
      },
      "outputs": [
        {
          "data": {
            "text/plain": [
              "{'ccp_alpha': 0.0,\n",
              " 'class_weight': None,\n",
              " 'criterion': 'gini',\n",
              " 'max_depth': None,\n",
              " 'max_features': None,\n",
              " 'max_leaf_nodes': None,\n",
              " 'min_impurity_decrease': 0.0,\n",
              " 'min_samples_leaf': 1,\n",
              " 'min_samples_split': 2,\n",
              " 'min_weight_fraction_leaf': 0.0,\n",
              " 'random_state': None,\n",
              " 'splitter': 'best'}"
            ]
          },
          "execution_count": 69,
          "metadata": {},
          "output_type": "execute_result"
        }
      ],
      "source": [
        "dtree.get_params()"
      ]
    },
    {
      "cell_type": "code",
      "execution_count": null,
      "metadata": {
        "id": "5nySOusITPuX"
      },
      "outputs": [],
      "source": [
        "search_space = {\n",
        "    'criterion': ['gini', 'entropy'],\n",
        "    'max_depth': [None, 5, 10],\n",
        "    'min_samples_split': [2, 5],\n",
        "    'min_samples_leaf': [1, 2],\n",
        "    'max_features': ['auto', 'sqrt', 'log2'],\n",
        "    'max_leaf_nodes': [None, 10],\n",
        "}\n",
        "\n",
        "dtree_gs = DecisionTreeClassifier()\n",
        "\n",
        "GS = GridSearchCV(\n",
        "    estimator=dtree_gs,\n",
        "    param_grid=search_space,\n",
        "    scoring=[\"accuracy\", 'recall_micro', 'f1_micro'],\n",
        "    refit=\"recall_micro\",\n",
        "    cv=5,\n",
        "    verbose=4\n",
        ")\n",
        "\n",
        "GS.fit(X_train, y_train)"
      ]
    },
    {
      "cell_type": "code",
      "execution_count": null,
      "metadata": {
        "colab": {
          "base_uri": "https://localhost:8080/",
          "height": 74
        },
        "id": "l5poZz1V3-yj",
        "outputId": "f9dc6c7e-de2f-4297-84fb-95f696e275c5"
      },
      "outputs": [
        {
          "data": {
            "text/html": [
              "<style>#sk-container-id-6 {color: black;background-color: white;}#sk-container-id-6 pre{padding: 0;}#sk-container-id-6 div.sk-toggleable {background-color: white;}#sk-container-id-6 label.sk-toggleable__label {cursor: pointer;display: block;width: 100%;margin-bottom: 0;padding: 0.3em;box-sizing: border-box;text-align: center;}#sk-container-id-6 label.sk-toggleable__label-arrow:before {content: \"▸\";float: left;margin-right: 0.25em;color: #696969;}#sk-container-id-6 label.sk-toggleable__label-arrow:hover:before {color: black;}#sk-container-id-6 div.sk-estimator:hover label.sk-toggleable__label-arrow:before {color: black;}#sk-container-id-6 div.sk-toggleable__content {max-height: 0;max-width: 0;overflow: hidden;text-align: left;background-color: #f0f8ff;}#sk-container-id-6 div.sk-toggleable__content pre {margin: 0.2em;color: black;border-radius: 0.25em;background-color: #f0f8ff;}#sk-container-id-6 input.sk-toggleable__control:checked~div.sk-toggleable__content {max-height: 200px;max-width: 100%;overflow: auto;}#sk-container-id-6 input.sk-toggleable__control:checked~label.sk-toggleable__label-arrow:before {content: \"▾\";}#sk-container-id-6 div.sk-estimator input.sk-toggleable__control:checked~label.sk-toggleable__label {background-color: #d4ebff;}#sk-container-id-6 div.sk-label input.sk-toggleable__control:checked~label.sk-toggleable__label {background-color: #d4ebff;}#sk-container-id-6 input.sk-hidden--visually {border: 0;clip: rect(1px 1px 1px 1px);clip: rect(1px, 1px, 1px, 1px);height: 1px;margin: -1px;overflow: hidden;padding: 0;position: absolute;width: 1px;}#sk-container-id-6 div.sk-estimator {font-family: monospace;background-color: #f0f8ff;border: 1px dotted black;border-radius: 0.25em;box-sizing: border-box;margin-bottom: 0.5em;}#sk-container-id-6 div.sk-estimator:hover {background-color: #d4ebff;}#sk-container-id-6 div.sk-parallel-item::after {content: \"\";width: 100%;border-bottom: 1px solid gray;flex-grow: 1;}#sk-container-id-6 div.sk-label:hover label.sk-toggleable__label {background-color: #d4ebff;}#sk-container-id-6 div.sk-serial::before {content: \"\";position: absolute;border-left: 1px solid gray;box-sizing: border-box;top: 0;bottom: 0;left: 50%;z-index: 0;}#sk-container-id-6 div.sk-serial {display: flex;flex-direction: column;align-items: center;background-color: white;padding-right: 0.2em;padding-left: 0.2em;position: relative;}#sk-container-id-6 div.sk-item {position: relative;z-index: 1;}#sk-container-id-6 div.sk-parallel {display: flex;align-items: stretch;justify-content: center;background-color: white;position: relative;}#sk-container-id-6 div.sk-item::before, #sk-container-id-6 div.sk-parallel-item::before {content: \"\";position: absolute;border-left: 1px solid gray;box-sizing: border-box;top: 0;bottom: 0;left: 50%;z-index: -1;}#sk-container-id-6 div.sk-parallel-item {display: flex;flex-direction: column;z-index: 1;position: relative;background-color: white;}#sk-container-id-6 div.sk-parallel-item:first-child::after {align-self: flex-end;width: 50%;}#sk-container-id-6 div.sk-parallel-item:last-child::after {align-self: flex-start;width: 50%;}#sk-container-id-6 div.sk-parallel-item:only-child::after {width: 0;}#sk-container-id-6 div.sk-dashed-wrapped {border: 1px dashed gray;margin: 0 0.4em 0.5em 0.4em;box-sizing: border-box;padding-bottom: 0.4em;background-color: white;}#sk-container-id-6 div.sk-label label {font-family: monospace;font-weight: bold;display: inline-block;line-height: 1.2em;}#sk-container-id-6 div.sk-label-container {text-align: center;}#sk-container-id-6 div.sk-container {/* jupyter's `normalize.less` sets `[hidden] { display: none; }` but bootstrap.min.css set `[hidden] { display: none !important; }` so we also need the `!important` here to be able to override the default hidden behavior on the sphinx rendered scikit-learn.org. See: https://github.com/scikit-learn/scikit-learn/issues/21755 */display: inline-block !important;position: relative;}#sk-container-id-6 div.sk-text-repr-fallback {display: none;}</style><div id=\"sk-container-id-6\" class=\"sk-top-container\"><div class=\"sk-text-repr-fallback\"><pre>DecisionTreeClassifier(criterion=&#x27;entropy&#x27;, max_features=&#x27;sqrt&#x27;)</pre><b>In a Jupyter environment, please rerun this cell to show the HTML representation or trust the notebook. <br />On GitHub, the HTML representation is unable to render, please try loading this page with nbviewer.org.</b></div><div class=\"sk-container\" hidden><div class=\"sk-item\"><div class=\"sk-estimator sk-toggleable\"><input class=\"sk-toggleable__control sk-hidden--visually\" id=\"sk-estimator-id-12\" type=\"checkbox\" checked><label for=\"sk-estimator-id-12\" class=\"sk-toggleable__label sk-toggleable__label-arrow\">DecisionTreeClassifier</label><div class=\"sk-toggleable__content\"><pre>DecisionTreeClassifier(criterion=&#x27;entropy&#x27;, max_features=&#x27;sqrt&#x27;)</pre></div></div></div></div></div>"
            ],
            "text/plain": [
              "DecisionTreeClassifier(criterion='entropy', max_features='sqrt')"
            ]
          },
          "execution_count": 73,
          "metadata": {},
          "output_type": "execute_result"
        }
      ],
      "source": [
        "GS.best_estimator_"
      ]
    },
    {
      "cell_type": "code",
      "execution_count": null,
      "metadata": {
        "colab": {
          "base_uri": "https://localhost:8080/"
        },
        "id": "2yjDd7Z54H_K",
        "outputId": "4d5f176a-23fb-430b-f0fd-1c46beb48f0a"
      },
      "outputs": [
        {
          "name": "stdout",
          "output_type": "stream",
          "text": [
            "Результат роботи моделі DecisionTreeClassifier з найкращою архітектурою:\n",
            "              precision    recall  f1-score   support\n",
            "\n",
            "        -1.0       0.73      0.75      0.74      4955\n",
            "         0.0       0.69      0.67      0.68      4880\n",
            "         1.0       0.78      0.78      0.78      4912\n",
            "\n",
            "    accuracy                           0.73     14747\n",
            "   macro avg       0.73      0.73      0.73     14747\n",
            "weighted avg       0.73      0.73      0.73     14747\n",
            "\n"
          ]
        }
      ],
      "source": [
        "dtree_best = DecisionTreeClassifier(criterion='entropy', max_features='sqrt')\n",
        "dtree_best.fit(X_train, y_train)\n",
        "\n",
        "dtree_pred = dtree_best.predict(X_val)\n",
        "\n",
        "print(\"Результат роботи моделі DecisionTreeClassifier з найкращою архітектурою:\")\n",
        "print(classification_report(y_val, dtree_pred))"
      ]
    },
    {
      "cell_type": "markdown",
      "metadata": {
        "id": "BzaLzBO84hzL"
      },
      "source": [
        "**Висновок:** Оскільки основною метрикою був обраний recall, ми оцінюємо модель за значенням **0.75** для передбачення низького кредитного рейтингу суб'єкта. На жаль, воно нижче заданого порогу в **0.8**.  Значення accuracy - **0.73**, що також є незадовільним результатом. Після пошуку оптимальних гіперпараметрів точність моделі підвищилася, проте недостатньо. Отже використовувати DecisionTreeClassifier для фінальної класифікації я не буду."
      ]
    },
    {
      "cell_type": "markdown",
      "metadata": {
        "id": "rzgZiIx8TXdW"
      },
      "source": [
        "### 4. RandomForestClassifier"
      ]
    },
    {
      "cell_type": "code",
      "execution_count": null,
      "metadata": {
        "colab": {
          "base_uri": "https://localhost:8080/"
        },
        "id": "bATJleShQqfV",
        "outputId": "3cb48363-122f-46ff-d165-78386c974c41"
      },
      "outputs": [
        {
          "name": "stdout",
          "output_type": "stream",
          "text": [
            "Результат роботи первинної моделі RandomForestClassifier:\n",
            "              precision    recall  f1-score   support\n",
            "\n",
            "        -1.0       0.86      0.85      0.85      4955\n",
            "         0.0       0.84      0.74      0.79      4880\n",
            "         1.0       0.83      0.93      0.87      4912\n",
            "\n",
            "    accuracy                           0.84     14747\n",
            "   macro avg       0.84      0.84      0.84     14747\n",
            "weighted avg       0.84      0.84      0.84     14747\n",
            "\n"
          ]
        }
      ],
      "source": [
        "feat_labels =train_df.columns[1:]\n",
        "rf = RandomForestClassifier(n_estimators=800, random_state=1)\n",
        "rf.fit(X_train, y_train)\n",
        "\n",
        "rf_pred = rf.predict(X_val)\n",
        "\n",
        "print(\"Результат роботи первинної моделі RandomForestClassifier:\")\n",
        "print(classification_report(y_val, rf_pred))"
      ]
    },
    {
      "cell_type": "markdown",
      "metadata": {
        "id": "iKLzTMxB6SMn"
      },
      "source": [
        "Оскільки модель RandomForestClassifier дозволяє оцінити вплив кожної змінної на результат класифікації, я вирішив продемонструвати це на наступній гістрограмі."
      ]
    },
    {
      "cell_type": "code",
      "execution_count": null,
      "metadata": {
        "colab": {
          "base_uri": "https://localhost:8080/",
          "height": 1000
        },
        "id": "yzrjCN_QQqh9",
        "outputId": "a0055ab0-8e21-48ec-c5a4-866c12705c1c"
      },
      "outputs": [
        {
          "name": "stdout",
          "output_type": "stream",
          "text": [
            " 1) Outstanding_Debt               0.117677\n",
            " 2) Credit_Utilization_Ratio       0.091090\n",
            " 3) Num_of_Loan                    0.082403\n",
            " 4) Num_of_Delayed_Payment         0.058589\n",
            " 5) Payment_of_Min_Amount          0.048014\n",
            " 6) Credit_Mix                     0.042133\n",
            " 7) Total_EMI_per_month            0.041675\n",
            " 8) Num_Credit_Inquiries           0.041296\n",
            " 9) Interest_Rate                  0.037093\n",
            "10) Num_Credit_Card                0.034582\n",
            "11) Changed_Credit_Limit           0.032709\n",
            "12) Age                            0.032071\n",
            "13) Credit_Score                   0.029193\n",
            "14) Amount_invested_monthly        0.027977\n",
            "15) Monthly_Inhand_Salary          0.027696\n",
            "16) Credit_History_Age             0.027695\n",
            "17) Month                          0.027555\n",
            "18) Num_Bank_Accounts              0.027167\n",
            "19) Payment_Behaviour              0.026734\n",
            "20) Occupation                     0.025582\n",
            "21) Delay_from_due_date            0.025461\n",
            "22) Annual_Income                  0.020877\n",
            "23) Monthly_Balance                0.020250\n",
            "24) Personal Loan                  0.007294\n",
            "25) Debt Consolidation Loan        0.007194\n",
            "26) Credit-Builder Loan            0.006913\n",
            "27) Auto Loan                      0.006815\n",
            "28) Home Equity Loan               0.006753\n",
            "29) Payday Loan                    0.006706\n",
            "30) Student Loan                   0.006511\n",
            "31) Mortgage Loan                  0.006295\n"
          ]
        },
        {
          "data": {
            "image/png": "[encoded data removed]",
            "text/plain": [
              "<Figure size 800x550 with 1 Axes>"
            ]
          },
          "metadata": {},
          "output_type": "display_data"
        }
      ],
      "source": [
        "importance = rf.feature_importances_\n",
        "indices = np.argsort(importance)[::-1]\n",
        "\n",
        "for f in range(X_train.shape[1]):\n",
        "    print(\"%2d) %-*s %f\" % (f+1, 30, feat_labels[indices[f]], importance[indices[f]]))\n",
        "\n",
        "plt.title('Важливість ознак:')\n",
        "sns.barplot(x=range(X_train.shape[1]), y=importance[indices])\n",
        "plt.show()"
      ]
    },
    {
      "cell_type": "code",
      "execution_count": null,
      "metadata": {
        "colab": {
          "base_uri": "https://localhost:8080/"
        },
        "id": "lxeSR7A87ssO",
        "outputId": "070aeeba-a37b-421e-bb01-cc7e659c170e"
      },
      "outputs": [
        {
          "data": {
            "text/plain": [
              "{'bootstrap': True,\n",
              " 'ccp_alpha': 0.0,\n",
              " 'class_weight': None,\n",
              " 'criterion': 'gini',\n",
              " 'max_depth': None,\n",
              " 'max_features': 'sqrt',\n",
              " 'max_leaf_nodes': None,\n",
              " 'max_samples': None,\n",
              " 'min_impurity_decrease': 0.0,\n",
              " 'min_samples_leaf': 1,\n",
              " 'min_samples_split': 2,\n",
              " 'min_weight_fraction_leaf': 0.0,\n",
              " 'n_estimators': 800,\n",
              " 'n_jobs': None,\n",
              " 'oob_score': False,\n",
              " 'random_state': 1,\n",
              " 'verbose': 0,\n",
              " 'warm_start': False}"
            ]
          },
          "execution_count": 77,
          "metadata": {},
          "output_type": "execute_result"
        }
      ],
      "source": [
        "rf.get_params()"
      ]
    },
    {
      "cell_type": "markdown",
      "metadata": {
        "id": "_4ZwS_GL6z0o"
      },
      "source": [
        "Тепер я застосую Grid Search для пошуку оптимальних гіперпараметрів."
      ]
    },
    {
      "cell_type": "code",
      "execution_count": null,
      "metadata": {
        "colab": {
          "base_uri": "https://localhost:8080/",
          "height": 401
        },
        "id": "eUz3Tlhz6Phg",
        "outputId": "b323ab66-e882-4af8-acfd-d6712bb818ae"
      },
      "outputs": [
        {
          "name": "stdout",
          "output_type": "stream",
          "text": [
            "Fitting 5 folds for each of 3 candidates, totalling 15 fits\n",
            "[CV 1/5] END n_estimators=500; accuracy: (test=0.834) f1_micro: (test=0.834) recall_micro: (test=0.834) total time= 1.1min\n",
            "[CV 2/5] END n_estimators=500; accuracy: (test=0.835) f1_micro: (test=0.835) recall_micro: (test=0.835) total time= 1.1min\n",
            "[CV 3/5] END n_estimators=500; accuracy: (test=0.832) f1_micro: (test=0.832) recall_micro: (test=0.832) total time= 1.1min\n",
            "[CV 4/5] END n_estimators=500; accuracy: (test=0.841) f1_micro: (test=0.841) recall_micro: (test=0.841) total time= 1.1min\n",
            "[CV 5/5] END n_estimators=500; accuracy: (test=0.833) f1_micro: (test=0.833) recall_micro: (test=0.833) total time= 1.1min\n",
            "[CV 1/5] END n_estimators=800; accuracy: (test=0.833) f1_micro: (test=0.833) recall_micro: (test=0.833) total time= 1.7min\n",
            "[CV 2/5] END n_estimators=800; accuracy: (test=0.834) f1_micro: (test=0.834) recall_micro: (test=0.834) total time= 1.7min\n",
            "[CV 3/5] END n_estimators=800; accuracy: (test=0.833) f1_micro: (test=0.833) recall_micro: (test=0.833) total time= 1.7min\n",
            "[CV 4/5] END n_estimators=800; accuracy: (test=0.840) f1_micro: (test=0.840) recall_micro: (test=0.840) total time= 1.7min\n",
            "[CV 5/5] END n_estimators=800; accuracy: (test=0.832) f1_micro: (test=0.832) recall_micro: (test=0.832) total time= 1.7min\n",
            "[CV 1/5] END n_estimators=1000; accuracy: (test=0.832) f1_micro: (test=0.832) recall_micro: (test=0.832) total time= 2.1min\n",
            "[CV 2/5] END n_estimators=1000; accuracy: (test=0.834) f1_micro: (test=0.834) recall_micro: (test=0.834) total time= 2.1min\n",
            "[CV 3/5] END n_estimators=1000; accuracy: (test=0.833) f1_micro: (test=0.833) recall_micro: (test=0.833) total time= 2.1min\n",
            "[CV 4/5] END n_estimators=1000; accuracy: (test=0.842) f1_micro: (test=0.842) recall_micro: (test=0.842) total time= 2.1min\n",
            "[CV 5/5] END n_estimators=1000; accuracy: (test=0.831) f1_micro: (test=0.831) recall_micro: (test=0.831) total time= 2.1min\n"
          ]
        },
        {
          "data": {
            "text/html": [
              "<style>#sk-container-id-7 {color: black;background-color: white;}#sk-container-id-7 pre{padding: 0;}#sk-container-id-7 div.sk-toggleable {background-color: white;}#sk-container-id-7 label.sk-toggleable__label {cursor: pointer;display: block;width: 100%;margin-bottom: 0;padding: 0.3em;box-sizing: border-box;text-align: center;}#sk-container-id-7 label.sk-toggleable__label-arrow:before {content: \"▸\";float: left;margin-right: 0.25em;color: #696969;}#sk-container-id-7 label.sk-toggleable__label-arrow:hover:before {color: black;}#sk-container-id-7 div.sk-estimator:hover label.sk-toggleable__label-arrow:before {color: black;}#sk-container-id-7 div.sk-toggleable__content {max-height: 0;max-width: 0;overflow: hidden;text-align: left;background-color: #f0f8ff;}#sk-container-id-7 div.sk-toggleable__content pre {margin: 0.2em;color: black;border-radius: 0.25em;background-color: #f0f8ff;}#sk-container-id-7 input.sk-toggleable__control:checked~div.sk-toggleable__content {max-height: 200px;max-width: 100%;overflow: auto;}#sk-container-id-7 input.sk-toggleable__control:checked~label.sk-toggleable__label-arrow:before {content: \"▾\";}#sk-container-id-7 div.sk-estimator input.sk-toggleable__control:checked~label.sk-toggleable__label {background-color: #d4ebff;}#sk-container-id-7 div.sk-label input.sk-toggleable__control:checked~label.sk-toggleable__label {background-color: #d4ebff;}#sk-container-id-7 input.sk-hidden--visually {border: 0;clip: rect(1px 1px 1px 1px);clip: rect(1px, 1px, 1px, 1px);height: 1px;margin: -1px;overflow: hidden;padding: 0;position: absolute;width: 1px;}#sk-container-id-7 div.sk-estimator {font-family: monospace;background-color: #f0f8ff;border: 1px dotted black;border-radius: 0.25em;box-sizing: border-box;margin-bottom: 0.5em;}#sk-container-id-7 div.sk-estimator:hover {background-color: #d4ebff;}#sk-container-id-7 div.sk-parallel-item::after {content: \"\";width: 100%;border-bottom: 1px solid gray;flex-grow: 1;}#sk-container-id-7 div.sk-label:hover label.sk-toggleable__label {background-color: #d4ebff;}#sk-container-id-7 div.sk-serial::before {content: \"\";position: absolute;border-left: 1px solid gray;box-sizing: border-box;top: 0;bottom: 0;left: 50%;z-index: 0;}#sk-container-id-7 div.sk-serial {display: flex;flex-direction: column;align-items: center;background-color: white;padding-right: 0.2em;padding-left: 0.2em;position: relative;}#sk-container-id-7 div.sk-item {position: relative;z-index: 1;}#sk-container-id-7 div.sk-parallel {display: flex;align-items: stretch;justify-content: center;background-color: white;position: relative;}#sk-container-id-7 div.sk-item::before, #sk-container-id-7 div.sk-parallel-item::before {content: \"\";position: absolute;border-left: 1px solid gray;box-sizing: border-box;top: 0;bottom: 0;left: 50%;z-index: -1;}#sk-container-id-7 div.sk-parallel-item {display: flex;flex-direction: column;z-index: 1;position: relative;background-color: white;}#sk-container-id-7 div.sk-parallel-item:first-child::after {align-self: flex-end;width: 50%;}#sk-container-id-7 div.sk-parallel-item:last-child::after {align-self: flex-start;width: 50%;}#sk-container-id-7 div.sk-parallel-item:only-child::after {width: 0;}#sk-container-id-7 div.sk-dashed-wrapped {border: 1px dashed gray;margin: 0 0.4em 0.5em 0.4em;box-sizing: border-box;padding-bottom: 0.4em;background-color: white;}#sk-container-id-7 div.sk-label label {font-family: monospace;font-weight: bold;display: inline-block;line-height: 1.2em;}#sk-container-id-7 div.sk-label-container {text-align: center;}#sk-container-id-7 div.sk-container {/* jupyter's `normalize.less` sets `[hidden] { display: none; }` but bootstrap.min.css set `[hidden] { display: none !important; }` so we also need the `!important` here to be able to override the default hidden behavior on the sphinx rendered scikit-learn.org. See: https://github.com/scikit-learn/scikit-learn/issues/21755 */display: inline-block !important;position: relative;}#sk-container-id-7 div.sk-text-repr-fallback {display: none;}</style><div id=\"sk-container-id-7\" class=\"sk-top-container\"><div class=\"sk-text-repr-fallback\"><pre>GridSearchCV(cv=5, estimator=RandomForestClassifier(),\n",
              "             param_grid={&#x27;n_estimators&#x27;: [500, 800, 1000]},\n",
              "             refit=&#x27;recall_micro&#x27;,\n",
              "             scoring=[&#x27;accuracy&#x27;, &#x27;recall_micro&#x27;, &#x27;f1_micro&#x27;], verbose=4)</pre><b>In a Jupyter environment, please rerun this cell to show the HTML representation or trust the notebook. <br />On GitHub, the HTML representation is unable to render, please try loading this page with nbviewer.org.</b></div><div class=\"sk-container\" hidden><div class=\"sk-item sk-dashed-wrapped\"><div class=\"sk-label-container\"><div class=\"sk-label sk-toggleable\"><input class=\"sk-toggleable__control sk-hidden--visually\" id=\"sk-estimator-id-13\" type=\"checkbox\" ><label for=\"sk-estimator-id-13\" class=\"sk-toggleable__label sk-toggleable__label-arrow\">GridSearchCV</label><div class=\"sk-toggleable__content\"><pre>GridSearchCV(cv=5, estimator=RandomForestClassifier(),\n",
              "             param_grid={&#x27;n_estimators&#x27;: [500, 800, 1000]},\n",
              "             refit=&#x27;recall_micro&#x27;,\n",
              "             scoring=[&#x27;accuracy&#x27;, &#x27;recall_micro&#x27;, &#x27;f1_micro&#x27;], verbose=4)</pre></div></div></div><div class=\"sk-parallel\"><div class=\"sk-parallel-item\"><div class=\"sk-item\"><div class=\"sk-label-container\"><div class=\"sk-label sk-toggleable\"><input class=\"sk-toggleable__control sk-hidden--visually\" id=\"sk-estimator-id-14\" type=\"checkbox\" ><label for=\"sk-estimator-id-14\" class=\"sk-toggleable__label sk-toggleable__label-arrow\">estimator: RandomForestClassifier</label><div class=\"sk-toggleable__content\"><pre>RandomForestClassifier()</pre></div></div></div><div class=\"sk-serial\"><div class=\"sk-item\"><div class=\"sk-estimator sk-toggleable\"><input class=\"sk-toggleable__control sk-hidden--visually\" id=\"sk-estimator-id-15\" type=\"checkbox\" ><label for=\"sk-estimator-id-15\" class=\"sk-toggleable__label sk-toggleable__label-arrow\">RandomForestClassifier</label><div class=\"sk-toggleable__content\"><pre>RandomForestClassifier()</pre></div></div></div></div></div></div></div></div></div></div>"
            ],
            "text/plain": [
              "GridSearchCV(cv=5, estimator=RandomForestClassifier(),\n",
              "             param_grid={'n_estimators': [500, 800, 1000]},\n",
              "             refit='recall_micro',\n",
              "             scoring=['accuracy', 'recall_micro', 'f1_micro'], verbose=4)"
            ]
          },
          "execution_count": 79,
          "metadata": {},
          "output_type": "execute_result"
        }
      ],
      "source": [
        "search_space = {\n",
        "    'n_estimators': [500, 800, 1000],\n",
        "}\n",
        "\n",
        "rf_gs = RandomForestClassifier()\n",
        "\n",
        "GS = GridSearchCV(\n",
        "    estimator=rf_gs,\n",
        "    param_grid=search_space,\n",
        "    scoring=[\"accuracy\", 'recall_micro', 'f1_micro'],\n",
        "    refit=\"recall_micro\",\n",
        "    cv=5,\n",
        "    verbose=4\n",
        ")\n",
        "\n",
        "GS.fit(X_train, y_train)"
      ]
    },
    {
      "cell_type": "code",
      "execution_count": null,
      "metadata": {
        "colab": {
          "base_uri": "https://localhost:8080/",
          "height": 74
        },
        "id": "y418h3MK69VB",
        "outputId": "87999548-75fc-4451-daae-763010307a4d"
      },
      "outputs": [
        {
          "data": {
            "text/html": [
              "<style>#sk-container-id-8 {color: black;background-color: white;}#sk-container-id-8 pre{padding: 0;}#sk-container-id-8 div.sk-toggleable {background-color: white;}#sk-container-id-8 label.sk-toggleable__label {cursor: pointer;display: block;width: 100%;margin-bottom: 0;padding: 0.3em;box-sizing: border-box;text-align: center;}#sk-container-id-8 label.sk-toggleable__label-arrow:before {content: \"▸\";float: left;margin-right: 0.25em;color: #696969;}#sk-container-id-8 label.sk-toggleable__label-arrow:hover:before {color: black;}#sk-container-id-8 div.sk-estimator:hover label.sk-toggleable__label-arrow:before {color: black;}#sk-container-id-8 div.sk-toggleable__content {max-height: 0;max-width: 0;overflow: hidden;text-align: left;background-color: #f0f8ff;}#sk-container-id-8 div.sk-toggleable__content pre {margin: 0.2em;color: black;border-radius: 0.25em;background-color: #f0f8ff;}#sk-container-id-8 input.sk-toggleable__control:checked~div.sk-toggleable__content {max-height: 200px;max-width: 100%;overflow: auto;}#sk-container-id-8 input.sk-toggleable__control:checked~label.sk-toggleable__label-arrow:before {content: \"▾\";}#sk-container-id-8 div.sk-estimator input.sk-toggleable__control:checked~label.sk-toggleable__label {background-color: #d4ebff;}#sk-container-id-8 div.sk-label input.sk-toggleable__control:checked~label.sk-toggleable__label {background-color: #d4ebff;}#sk-container-id-8 input.sk-hidden--visually {border: 0;clip: rect(1px 1px 1px 1px);clip: rect(1px, 1px, 1px, 1px);height: 1px;margin: -1px;overflow: hidden;padding: 0;position: absolute;width: 1px;}#sk-container-id-8 div.sk-estimator {font-family: monospace;background-color: #f0f8ff;border: 1px dotted black;border-radius: 0.25em;box-sizing: border-box;margin-bottom: 0.5em;}#sk-container-id-8 div.sk-estimator:hover {background-color: #d4ebff;}#sk-container-id-8 div.sk-parallel-item::after {content: \"\";width: 100%;border-bottom: 1px solid gray;flex-grow: 1;}#sk-container-id-8 div.sk-label:hover label.sk-toggleable__label {background-color: #d4ebff;}#sk-container-id-8 div.sk-serial::before {content: \"\";position: absolute;border-left: 1px solid gray;box-sizing: border-box;top: 0;bottom: 0;left: 50%;z-index: 0;}#sk-container-id-8 div.sk-serial {display: flex;flex-direction: column;align-items: center;background-color: white;padding-right: 0.2em;padding-left: 0.2em;position: relative;}#sk-container-id-8 div.sk-item {position: relative;z-index: 1;}#sk-container-id-8 div.sk-parallel {display: flex;align-items: stretch;justify-content: center;background-color: white;position: relative;}#sk-container-id-8 div.sk-item::before, #sk-container-id-8 div.sk-parallel-item::before {content: \"\";position: absolute;border-left: 1px solid gray;box-sizing: border-box;top: 0;bottom: 0;left: 50%;z-index: -1;}#sk-container-id-8 div.sk-parallel-item {display: flex;flex-direction: column;z-index: 1;position: relative;background-color: white;}#sk-container-id-8 div.sk-parallel-item:first-child::after {align-self: flex-end;width: 50%;}#sk-container-id-8 div.sk-parallel-item:last-child::after {align-self: flex-start;width: 50%;}#sk-container-id-8 div.sk-parallel-item:only-child::after {width: 0;}#sk-container-id-8 div.sk-dashed-wrapped {border: 1px dashed gray;margin: 0 0.4em 0.5em 0.4em;box-sizing: border-box;padding-bottom: 0.4em;background-color: white;}#sk-container-id-8 div.sk-label label {font-family: monospace;font-weight: bold;display: inline-block;line-height: 1.2em;}#sk-container-id-8 div.sk-label-container {text-align: center;}#sk-container-id-8 div.sk-container {/* jupyter's `normalize.less` sets `[hidden] { display: none; }` but bootstrap.min.css set `[hidden] { display: none !important; }` so we also need the `!important` here to be able to override the default hidden behavior on the sphinx rendered scikit-learn.org. See: https://github.com/scikit-learn/scikit-learn/issues/21755 */display: inline-block !important;position: relative;}#sk-container-id-8 div.sk-text-repr-fallback {display: none;}</style><div id=\"sk-container-id-8\" class=\"sk-top-container\"><div class=\"sk-text-repr-fallback\"><pre>RandomForestClassifier(n_estimators=500)</pre><b>In a Jupyter environment, please rerun this cell to show the HTML representation or trust the notebook. <br />On GitHub, the HTML representation is unable to render, please try loading this page with nbviewer.org.</b></div><div class=\"sk-container\" hidden><div class=\"sk-item\"><div class=\"sk-estimator sk-toggleable\"><input class=\"sk-toggleable__control sk-hidden--visually\" id=\"sk-estimator-id-16\" type=\"checkbox\" checked><label for=\"sk-estimator-id-16\" class=\"sk-toggleable__label sk-toggleable__label-arrow\">RandomForestClassifier</label><div class=\"sk-toggleable__content\"><pre>RandomForestClassifier(n_estimators=500)</pre></div></div></div></div></div>"
            ],
            "text/plain": [
              "RandomForestClassifier(n_estimators=500)"
            ]
          },
          "execution_count": 81,
          "metadata": {},
          "output_type": "execute_result"
        }
      ],
      "source": [
        "GS.best_estimator_"
      ]
    },
    {
      "cell_type": "code",
      "execution_count": null,
      "metadata": {
        "colab": {
          "base_uri": "https://localhost:8080/"
        },
        "id": "jM_NGts369Yb",
        "outputId": "e770402a-d14d-4e0c-a556-e4df87847916"
      },
      "outputs": [
        {
          "name": "stdout",
          "output_type": "stream",
          "text": [
            "Результат роботи моделі RandomForestClassifier з найкращою архітектурою:\n",
            "              precision    recall  f1-score   support\n",
            "\n",
            "        -1.0       0.86      0.85      0.85      4955\n",
            "         0.0       0.84      0.74      0.79      4880\n",
            "         1.0       0.83      0.93      0.87      4912\n",
            "\n",
            "    accuracy                           0.84     14747\n",
            "   macro avg       0.84      0.84      0.84     14747\n",
            "weighted avg       0.84      0.84      0.84     14747\n",
            "\n"
          ]
        }
      ],
      "source": [
        "rf_best = RandomForestClassifier(n_estimators=500)\n",
        "rf_best.fit(X_train, y_train)\n",
        "\n",
        "rf_pred = rf_best.predict(X_val)\n",
        "\n",
        "print(\"Результат роботи моделі RandomForestClassifier з найкращою архітектурою:\")\n",
        "print(classification_report(y_val, rf_pred))"
      ]
    },
    {
      "cell_type": "markdown",
      "metadata": {
        "id": "2KtDRSgLEoOF"
      },
      "source": [
        "### 5. **Modeling colclusion**\n",
        "\n",
        "Під час етапу моделювання я порівнював чотири алгоритми класифікації:\n",
        "1. Логістичну регресію\n",
        "2. Метод К-найближчих сусідів\n",
        "3. Дерево рішень\n",
        "4. Випадкові ліси\n",
        "\n",
        "Найращий результат показали моделі RandomForestClassifier (recall = 0.85) та KNeighborsClassifier (recall = 0.88) на валідаційній вибірці. Тому я приймаю рішення використовувати KNeighborsClassifier в оптимальній конфігурації для фінальної класифікації.  "
      ]
    },
    {
      "cell_type": "markdown",
      "metadata": {
        "id": "KtIJqeXOmPoX"
      },
      "source": [
        "# Final prediction"
      ]
    },
    {
      "cell_type": "code",
      "execution_count": 24,
      "metadata": {
        "id": "cy7eDAMdGqqc"
      },
      "outputs": [],
      "source": [
        "knn_final_model = KNeighborsClassifier(metric='manhattan', n_neighbors=3, weights='distance')\n",
        "knn_final_model.fit(X_train, y_train)\n",
        "\n",
        "knn_final_predict = knn_final_model.predict(X_test)"
      ]
    },
    {
      "cell_type": "code",
      "execution_count": 26,
      "metadata": {
        "id": "DsxSrTXnM2Kz"
      },
      "outputs": [],
      "source": [
        "knn_final_predict = pd.DataFrame(knn_final_predict)"
      ]
    },
    {
      "cell_type": "code",
      "execution_count": 30,
      "metadata": {},
      "outputs": [],
      "source": [
        "knn_final_predict.index = test_df.index"
      ]
    },
    {
      "cell_type": "code",
      "execution_count": 33,
      "metadata": {},
      "outputs": [],
      "source": [
        "knn_final_predict = knn_final_predict.replace({-1: \"Poor\", 0: \"Standard\", 1: \"Good\"})"
      ]
    },
    {
      "cell_type": "code",
      "execution_count": 35,
      "metadata": {
        "id": "y9CZ8TeG4p8T"
      },
      "outputs": [],
      "source": [
        "knn_final_predict.to_csv(f'answers_{full_name}.csv')"
      ]
    },
    {
      "cell_type": "code",
      "execution_count": null,
      "metadata": {},
      "outputs": [],
      "source": []
    }
  ],
  "metadata": {
    "colab": {
      "collapsed_sections": [
        "Pr3qsnj1Pz3Z",
        "OehOZwwCQIzc",
        "47pj0LwvSmdc",
        "rzgZiIx8TXdW"
      ],
      "provenance": []
    },
    "kernelspec": {
      "display_name": "venv",
      "language": "python",
      "name": "python3"
    },
    "language_info": {
      "codemirror_mode": {
        "name": "ipython",
        "version": 3
      },
      "file_extension": ".py",
      "mimetype": "text/x-python",
      "name": "python",
      "nbconvert_exporter": "python",
      "pygments_lexer": "ipython3",
      "version": "3.11.1"
    }
  },
  "nbformat": 4,
  "nbformat_minor": 0
}
